{
 "cells": [
  {
   "cell_type": "code",
   "execution_count": 7,
   "metadata": {},
   "outputs": [],
   "source": [
    "import requests\n",
    "import pandas as pd\n",
    "import numpy as np\n",
    "\n",
    "\n",
    "# https://martin-thoma.com/configuration-files-in-python/\n",
    "\n",
    "import json\n",
    "\n",
    "with open(\"../.private/keys.json\") as keys_file:\n",
    "    KEYS = json.load(keys_file)\n",
    "\n",
    "APIKEY = KEYS['THEGRAPH']\n",
    "# Note: don't print the key, or if you do, delete the cell's output\n",
    "# (cell outputs are saved and can be sent to Github)."
   ]
  },
  {
   "cell_type": "markdown",
   "metadata": {},
   "source": [
    "Badger DAO graph endpoint."
   ]
  },
  {
   "cell_type": "code",
   "execution_count": 8,
   "metadata": {},
   "outputs": [],
   "source": [
    "# Badger DAO\n",
    "ENDPOINT = \"https://gateway.thegraph.com/api/\" + APIKEY + \\\n",
    "    \"/subgraphs/id/GGv13zuXnvG4V97Yn8FvfY5c73j1Df78D9rzvSye3yXr\"\n",
    "# https://thegraph.com/explorer/subgraph?id=GGv13zuXnvG4V97Yn8FvfY5c73j1Df78D9rzvSye3yXr&view=Playground\n",
    "    "
   ]
  },
  {
   "cell_type": "markdown",
   "metadata": {},
   "source": [
    "Load the gql client."
   ]
  },
  {
   "cell_type": "code",
   "execution_count": 2,
   "metadata": {},
   "outputs": [],
   "source": [
    "# !pip install gql\n",
    "# !pip install aiohttp \n",
    "from gql import gql, Client\n",
    "from gql.transport.aiohttp import AIOHTTPTransport\n"
   ]
  },
  {
   "cell_type": "code",
   "execution_count": 9,
   "metadata": {},
   "outputs": [],
   "source": [
    "transport = AIOHTTPTransport(url=ENDPOINT)\n",
    "client = Client(\n",
    "    transport=transport\n",
    "    #fetch_schema_from_transport=True\n",
    ")\n"
   ]
  },
  {
   "cell_type": "markdown",
   "metadata": {},
   "source": [
    "Let's try a first query."
   ]
  },
  {
   "cell_type": "code",
   "execution_count": 10,
   "metadata": {},
   "outputs": [],
   "source": [
    "query = gql(\n",
    "\"\"\"\n",
    "{\n",
    "  users(first: 5) {\n",
    "    id\n",
    "    settBalances {\n",
    "      id\n",
    "    }\n",
    "  }\n",
    "  setts(first: 5) {\n",
    "    id\n",
    "    name\n",
    "    symbol\n",
    "    token {\n",
    "      id\n",
    "    }\n",
    "  }\n",
    "}\n",
    "\"\"\")"
   ]
  },
  {
   "cell_type": "code",
   "execution_count": 11,
   "metadata": {},
   "outputs": [
    {
     "name": "stdout",
     "output_type": "stream",
     "text": [
      "{'users': [{'id': '0x0000000000000000000000000000000000000000', 'settBalances': []}, {'id': '0x000000000000000000000000000000000000dead', 'settBalances': [{'id': '0x000000000000000000000000000000000000dead-0x19d97d8fa813ee2f51ad4b4e04ea08baf4dffc28'}]}, {'id': '0x000000000000006f6502b7f2bbac8c30a3f67e9a', 'settBalances': [{'id': '0x000000000000006f6502b7f2bbac8c30a3f67e9a-0x19d97d8fa813ee2f51ad4b4e04ea08baf4dffc28'}, {'id': '0x000000000000006f6502b7f2bbac8c30a3f67e9a-0x7e7e112a68d8d2e221e11047a72ffc1065c38e1a'}]}, {'id': '0x0000000000002d534ff79e9c69e7fcc742f0be83', 'settBalances': [{'id': '0x0000000000002d534ff79e9c69e7fcc742f0be83-0x19d97d8fa813ee2f51ad4b4e04ea08baf4dffc28'}, {'id': '0x0000000000002d534ff79e9c69e7fcc742f0be83-0x7e7e112a68d8d2e221e11047a72ffc1065c38e1a'}]}, {'id': '0x0000000000005117dd3a72e64a705198753fdd54', 'settBalances': [{'id': '0x0000000000005117dd3a72e64a705198753fdd54-0x19d97d8fa813ee2f51ad4b4e04ea08baf4dffc28'}, {'id': '0x0000000000005117dd3a72e64a705198753fdd54-0x7e7e112a68d8d2e221e11047a72ffc1065c38e1a'}]}], 'setts': [{'id': '0x1862a18181346ebd9edaf800804f89190def24a5', 'name': 'Badger Sett SushiSwap LP Token', 'symbol': 'bSLP', 'token': {'id': '0x110492b31c59716ac47337e616804e3e3adc0b4a'}}, {'id': '0x19d97d8fa813ee2f51ad4b4e04ea08baf4dffc28', 'name': 'Badger Sett Badger', 'symbol': 'bBADGER', 'token': {'id': '0x3472a5a71965499acd81997a54bba8d852c6e53d'}}, {'id': '0x235c9e24d3fb2fafd58a2e49d454fdcd2dbf7ff1', 'name': 'Badger Sett Uniswap V2', 'symbol': 'bUNI-V2', 'token': {'id': '0xcd7989894bc033581532d2cd88da5db0a4b12859'}}, {'id': '0x2b5455aac8d64c14786c3a29858e43b5945819c0', 'name': 'Badger Sett Convex CRV', 'symbol': 'bcvxCRV', 'token': {'id': '0x62b9c7356a2dc64a1969e19c23e4f579f9810aa7'}}, {'id': '0x4b92d19c11435614cd49af1b589001b7c08cd4d5', 'name': 'Badger WBTC yVault', 'symbol': 'byvWBTC', 'token': {'id': '0x2260fac5e5542a773aa44fbcfedf7c193bc2c599'}}]}\n"
     ]
    }
   ],
   "source": [
    "result = await client.execute_async(query)\n",
    "print(result)\n",
    "\n"
   ]
  },
  {
   "cell_type": "code",
   "execution_count": 13,
   "metadata": {},
   "outputs": [
    {
     "data": {
      "text/plain": [
       "[{'id': '0x0000000000000000000000000000000000000000', 'settBalances': []},\n",
       " {'id': '0x000000000000000000000000000000000000dead',\n",
       "  'settBalances': [{'id': '0x000000000000000000000000000000000000dead-0x19d97d8fa813ee2f51ad4b4e04ea08baf4dffc28'}]},\n",
       " {'id': '0x000000000000006f6502b7f2bbac8c30a3f67e9a',\n",
       "  'settBalances': [{'id': '0x000000000000006f6502b7f2bbac8c30a3f67e9a-0x19d97d8fa813ee2f51ad4b4e04ea08baf4dffc28'},\n",
       "   {'id': '0x000000000000006f6502b7f2bbac8c30a3f67e9a-0x7e7e112a68d8d2e221e11047a72ffc1065c38e1a'}]},\n",
       " {'id': '0x0000000000002d534ff79e9c69e7fcc742f0be83',\n",
       "  'settBalances': [{'id': '0x0000000000002d534ff79e9c69e7fcc742f0be83-0x19d97d8fa813ee2f51ad4b4e04ea08baf4dffc28'},\n",
       "   {'id': '0x0000000000002d534ff79e9c69e7fcc742f0be83-0x7e7e112a68d8d2e221e11047a72ffc1065c38e1a'}]},\n",
       " {'id': '0x0000000000005117dd3a72e64a705198753fdd54',\n",
       "  'settBalances': [{'id': '0x0000000000005117dd3a72e64a705198753fdd54-0x19d97d8fa813ee2f51ad4b4e04ea08baf4dffc28'},\n",
       "   {'id': '0x0000000000005117dd3a72e64a705198753fdd54-0x7e7e112a68d8d2e221e11047a72ffc1065c38e1a'}]}]"
      ]
     },
     "execution_count": 13,
     "metadata": {},
     "output_type": "execute_result"
    }
   ],
   "source": [
    "result['users']"
   ]
  },
  {
   "cell_type": "code",
   "execution_count": 14,
   "metadata": {},
   "outputs": [
    {
     "data": {
      "text/plain": [
       "[{'id': '0x1862a18181346ebd9edaf800804f89190def24a5',\n",
       "  'name': 'Badger Sett SushiSwap LP Token',\n",
       "  'symbol': 'bSLP',\n",
       "  'token': {'id': '0x110492b31c59716ac47337e616804e3e3adc0b4a'}},\n",
       " {'id': '0x19d97d8fa813ee2f51ad4b4e04ea08baf4dffc28',\n",
       "  'name': 'Badger Sett Badger',\n",
       "  'symbol': 'bBADGER',\n",
       "  'token': {'id': '0x3472a5a71965499acd81997a54bba8d852c6e53d'}},\n",
       " {'id': '0x235c9e24d3fb2fafd58a2e49d454fdcd2dbf7ff1',\n",
       "  'name': 'Badger Sett Uniswap V2',\n",
       "  'symbol': 'bUNI-V2',\n",
       "  'token': {'id': '0xcd7989894bc033581532d2cd88da5db0a4b12859'}},\n",
       " {'id': '0x2b5455aac8d64c14786c3a29858e43b5945819c0',\n",
       "  'name': 'Badger Sett Convex CRV',\n",
       "  'symbol': 'bcvxCRV',\n",
       "  'token': {'id': '0x62b9c7356a2dc64a1969e19c23e4f579f9810aa7'}},\n",
       " {'id': '0x4b92d19c11435614cd49af1b589001b7c08cd4d5',\n",
       "  'name': 'Badger WBTC yVault',\n",
       "  'symbol': 'byvWBTC',\n",
       "  'token': {'id': '0x2260fac5e5542a773aa44fbcfedf7c193bc2c599'}}]"
      ]
     },
     "execution_count": 14,
     "metadata": {},
     "output_type": "execute_result"
    }
   ],
   "source": [
    "result['setts']"
   ]
  },
  {
   "cell_type": "code",
   "execution_count": 20,
   "metadata": {},
   "outputs": [],
   "source": [
    "query = gql(\n",
    "\"\"\"\n",
    "  query ($first: Int!, $skip: Int!) {\n",
    "    users(\n",
    "        first: $first,\n",
    "        skip: $skip\n",
    "    ) {\n",
    "        id\n",
    "        settBalances {\n",
    "        id\n",
    "        netDeposit\n",
    "        }\n",
    "    }\n",
    "}\n",
    "\"\"\")"
   ]
  },
  {
   "cell_type": "code",
   "execution_count": 21,
   "metadata": {},
   "outputs": [],
   "source": [
    "users_all = []"
   ]
  },
  {
   "cell_type": "code",
   "execution_count": 22,
   "metadata": {},
   "outputs": [
    {
     "name": "stdout",
     "output_type": "stream",
     "text": [
      "1000\n",
      "2000\n",
      "3000\n",
      "4000\n",
      "5000\n",
      "6000\n",
      "7000\n",
      "8000\n",
      "9000\n",
      "10000\n",
      "11000\n",
      "12000\n",
      "13000\n",
      "14000\n",
      "15000\n",
      "16000\n",
      "17000\n",
      "18000\n",
      "19000\n",
      "20000\n",
      "21000\n",
      "22000\n",
      "22403\n",
      "I am done!\n"
     ]
    }
   ],
   "source": [
    "users = users_all\n",
    "first = 1000\n",
    "skip = len(users_all)\n",
    "fetch = True\n",
    "while fetch:\n",
    "    vars = {\"first\": first, \"skip\": skip}\n",
    "    res = await client.execute_async(query, variable_values=vars)\n",
    "    # print(type(res))\n",
    "    # print(res)\n",
    "    \n",
    "    if not res['users']:\n",
    "        print('I am done!')\n",
    "        fetch = False\n",
    "    else:\n",
    "        users.extend(res['users'])\n",
    "        print(len(users))\n",
    "        skip += first# fetch = False"
   ]
  },
  {
   "cell_type": "code",
   "execution_count": 23,
   "metadata": {},
   "outputs": [
    {
     "data": {
      "text/plain": [
       "22403"
      ]
     },
     "execution_count": 23,
     "metadata": {},
     "output_type": "execute_result"
    }
   ],
   "source": [
    "len(users)"
   ]
  },
  {
   "cell_type": "code",
   "execution_count": 24,
   "metadata": {},
   "outputs": [],
   "source": [
    "df = pd.DataFrame(users)"
   ]
  },
  {
   "cell_type": "code",
   "execution_count": 27,
   "metadata": {},
   "outputs": [
    {
     "name": "stdout",
     "output_type": "stream",
     "text": [
      "<class 'pandas.core.frame.DataFrame'>\n",
      "RangeIndex: 22403 entries, 0 to 22402\n",
      "Data columns (total 2 columns):\n",
      " #   Column        Non-Null Count  Dtype \n",
      "---  ------        --------------  ----- \n",
      " 0   id            22403 non-null  object\n",
      " 1   settBalances  22403 non-null  object\n",
      "dtypes: object(2)\n",
      "memory usage: 350.2+ KB\n"
     ]
    }
   ],
   "source": [
    "df.info()"
   ]
  },
  {
   "cell_type": "code",
   "execution_count": 33,
   "metadata": {},
   "outputs": [
    {
     "data": {
      "text/plain": [
       "0"
      ]
     },
     "execution_count": 33,
     "metadata": {},
     "output_type": "execute_result"
    }
   ],
   "source": [
    "aa = df['id'].duplicated()\n",
    "aa.sum()"
   ]
  },
  {
   "cell_type": "code",
   "execution_count": 45,
   "metadata": {},
   "outputs": [
    {
     "data": {
      "text/plain": [
       "[{'id': '0x0d77b4c6916ba6df46dcbc4809c204da9089fee2-0x19d97d8fa813ee2f51ad4b4e04ea08baf4dffc28',\n",
       "  'netDeposit': '-8153831868017591191'},\n",
       " {'id': '0x0d77b4c6916ba6df46dcbc4809c204da9089fee2-0x4b92d19c11435614cd49af1b589001b7c08cd4d5',\n",
       "  'netDeposit': '209367967'},\n",
       " {'id': '0x0d77b4c6916ba6df46dcbc4809c204da9089fee2-0xd04c48a53c111300ad41190d63681ed3dad998ec',\n",
       "  'netDeposit': '-17268294269354414'}]"
      ]
     },
     "execution_count": 45,
     "metadata": {},
     "output_type": "execute_result"
    }
   ],
   "source": [
    "df.loc[1233]['settBalances']"
   ]
  }
 ],
 "metadata": {
  "kernelspec": {
   "display_name": "Python 3.9.1 64-bit",
   "language": "python",
   "name": "python3"
  },
  "language_info": {
   "codemirror_mode": {
    "name": "ipython",
    "version": 3
   },
   "file_extension": ".py",
   "mimetype": "text/x-python",
   "name": "python",
   "nbconvert_exporter": "python",
   "pygments_lexer": "ipython3",
   "version": "3.9.1"
  },
  "orig_nbformat": 4,
  "vscode": {
   "interpreter": {
    "hash": "c32e70da788b7e7a251586b987d2c569d373765eb2af3ced0674c402bf99c5a2"
   }
  }
 },
 "nbformat": 4,
 "nbformat_minor": 2
}
