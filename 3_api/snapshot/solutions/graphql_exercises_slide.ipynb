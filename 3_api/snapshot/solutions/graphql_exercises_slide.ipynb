{
 "cells": [
  {
   "cell_type": "markdown",
   "metadata": {},
   "source": [
    "Write a GraphQL query that fetches the first 20 spaces in descending order."
   ]
  },
  {
   "cell_type": "code",
   "execution_count": null,
   "metadata": {},
   "outputs": [],
   "source": [
    "query_1 = \"\"\"\n",
    "    query {\n",
    "    spaces(\n",
    "        first: 20\n",
    "        orderDirection: desc\n",
    "    ) \n",
    "    {\n",
    "        id\n",
    "        terms\n",
    "        avatar\n",
    "        about\n",
    "        location\n",
    "        website\n",
    "    }\n",
    "}\n",
    "\"\"\""
   ]
  },
  {
   "cell_type": "markdown",
   "metadata": {},
   "source": [
    "Write a GraphQL query that fetches the first 20 messages in the space \"badgerdao.eth\"\n",
    "\n",
    "_Messages are all the actions (votes, proposals, space settings etc..) that was confirmed on Snapshot, it also include the order on which these actions were confirmed with the field \"mci\"._\n"
   ]
  },
  {
   "cell_type": "code",
   "execution_count": null,
   "metadata": {},
   "outputs": [],
   "source": [
    "query_2 = \"\"\"\n",
    "query {\n",
    "  messages (\n",
    "    first: 20,\n",
    "    skip: 0,\n",
    "    where: { space: \"badgerdao.eth\" }\n",
    "  ) {\n",
    "    id\n",
    "    address\n",
    "    timestamp\n",
    "    mci\n",
    "    type\n",
    "    sig\n",
    "    receipt\n",
    "    version\n",
    "    ipfs\n",
    "  }\n",
    "}\n",
    "\"\"\""
   ]
  },
  {
   "cell_type": "markdown",
   "metadata": {},
   "source": [
    "Write a GraphQL query that fetches the first 20 proposals ordered by and the first 30 users in the space \"badgerdao.eth\" at the same time.\n"
   ]
  },
  {
   "cell_type": "code",
   "execution_count": null,
   "metadata": {},
   "outputs": [],
   "source": [
    "query_3 = \"\"\"\n",
    "    query {\n",
    "    follows(\n",
    "            first: 20, \n",
    "            where: {\n",
    "            space: \"badgerdao.eth\"\n",
    "        }\n",
    "    ) {\n",
    "        id\n",
    "        follower\n",
    "        space {\n",
    "            id\n",
    "        }\n",
    "    },\n",
    "    proposals(\n",
    "        first: 30,\n",
    "        where: {\n",
    "        space: \"badgerdao.eth\"\n",
    "        }\n",
    "    ) {\n",
    "        id\n",
    "        space {\n",
    "            id\n",
    "        }\n",
    "        title\n",
    "    }\n",
    "}\n",
    "\"\"\""
   ]
  }
 ],
 "metadata": {
  "language_info": {
   "name": "python"
  },
  "orig_nbformat": 4
 },
 "nbformat": 4,
 "nbformat_minor": 2
}
