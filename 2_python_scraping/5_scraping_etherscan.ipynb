{
 "cells": [
  {
   "cell_type": "markdown",
   "metadata": {},
   "source": [
    "## Wrap Up: Etherscan\n"
   ]
  },
  {
   "cell_type": "code",
   "execution_count": null,
   "metadata": {},
   "outputs": [],
   "source": [
    "url = \"https://etherscan.io/\""
   ]
  },
  {
   "cell_type": "markdown",
   "metadata": {},
   "source": [
    "Simple GET request without JS."
   ]
  },
  {
   "cell_type": "code",
   "execution_count": null,
   "metadata": {},
   "outputs": [],
   "source": [
    "import requests\n",
    "\n",
    "html = requests.get(url)\n",
    "\n",
    "html.content\n"
   ]
  },
  {
   "cell_type": "markdown",
   "metadata": {},
   "source": [
    "With custom headers."
   ]
  },
  {
   "cell_type": "code",
   "execution_count": null,
   "metadata": {},
   "outputs": [],
   "source": [
    "hdr = {'User-Agent': 'Mozilla/5.0'}\n",
    "\n",
    "html = requests.get(url, headers=hdr)\n",
    "\n",
    "html.content\n"
   ]
  },
  {
   "cell_type": "markdown",
   "metadata": {},
   "source": [
    "Improved GET request."
   ]
  },
  {
   "cell_type": "code",
   "execution_count": null,
   "metadata": {},
   "outputs": [],
   "source": [
    "\n",
    "import urllib.request\n",
    "\n",
    "page = urllib.request.urlopen(url).read()"
   ]
  },
  {
   "cell_type": "markdown",
   "metadata": {},
   "source": [
    "Improved GET request with custom headers."
   ]
  },
  {
   "cell_type": "code",
   "execution_count": null,
   "metadata": {},
   "outputs": [],
   "source": [
    "\n",
    "from urllib.request import Request, urlopen\n",
    "\n",
    "req = Request(url, headers = hdr)\n",
    "page = urlopen(req)\n"
   ]
  },
  {
   "cell_type": "markdown",
   "metadata": {},
   "source": [
    "Make soup."
   ]
  },
  {
   "cell_type": "code",
   "execution_count": null,
   "metadata": {},
   "outputs": [],
   "source": [
    "from bs4 import BeautifulSoup\n",
    "soup = BeautifulSoup(page)\n",
    "soup"
   ]
  },
  {
   "cell_type": "code",
   "execution_count": null,
   "metadata": {},
   "outputs": [],
   "source": [
    "# Import selenium\n",
    "from selenium import webdriver\n",
    "from selenium.webdriver.chrome.service import Service\n",
    "from webdriver_manager.chrome import ChromeDriverManager\n",
    "from selenium.webdriver.common.by import By\n"
   ]
  },
  {
   "cell_type": "code",
   "execution_count": null,
   "metadata": {},
   "outputs": [],
   "source": [
    "# Load driver\n",
    "\n",
    "# from selenium.webdriver.chrome.options import Options\n",
    "# options = Options()\n",
    "# options.add_argument(\"--headless\")\n",
    "\n",
    "driver = webdriver.Chrome(service=Service(ChromeDriverManager().install()))"
   ]
  },
  {
   "cell_type": "code",
   "execution_count": null,
   "metadata": {},
   "outputs": [],
   "source": [
    "driver.get(url)"
   ]
  },
  {
   "cell_type": "markdown",
   "metadata": {},
   "source": [
    "Finding one specific element with XPath and class name.\n",
    "\n",
    "_Note: the browser can export these selectors._"
   ]
  },
  {
   "cell_type": "code",
   "execution_count": null,
   "metadata": {},
   "outputs": [],
   "source": [
    "# CSS selector not available in Selenium.\n",
    "# mCSB_1_container > div:nth-child(1) > div.col-sm-8 > div > div.text-nowrap > span.d-block.mb-1.mb-sm-0 > a\n",
    "\n",
    "my_xpath = '//*[@id=\"mCSB_1_container\"]/div[1]/div[2]/div/div[1]/span[1]/a'\n",
    "\n",
    "elem = driver.find_element(By.XPATH, my_xpath)\n",
    "\n"
   ]
  },
  {
   "cell_type": "code",
   "execution_count": null,
   "metadata": {},
   "outputs": [],
   "source": [
    "\n",
    "elem.text"
   ]
  },
  {
   "cell_type": "code",
   "execution_count": null,
   "metadata": {},
   "outputs": [],
   "source": [
    "elem = driver.find_element(By.CLASS_NAME, 'hash-tag')\n",
    "\n",
    "elem.text\n"
   ]
  },
  {
   "cell_type": "code",
   "execution_count": null,
   "metadata": {},
   "outputs": [],
   "source": [
    "elements = driver.find_elements(By.CLASS_NAME, 'hash-tag')"
   ]
  },
  {
   "cell_type": "code",
   "execution_count": null,
   "metadata": {},
   "outputs": [],
   "source": [
    "type(elements), len(elements)"
   ]
  },
  {
   "cell_type": "markdown",
   "metadata": {},
   "source": [
    "#### All transactions\n",
    "\n",
    "Let's now get all transactions, not just what is on the home page.\n"
   ]
  },
  {
   "cell_type": "code",
   "execution_count": null,
   "metadata": {},
   "outputs": [],
   "source": [
    "url = 'https://etherscan.io/txs'"
   ]
  },
  {
   "cell_type": "markdown",
   "metadata": {},
   "source": [
    "By visual inspection in DevTools, each row contains 3 elements:\n",
    "- transaction hash\n",
    "- from\n",
    "- to"
   ]
  },
  {
   "cell_type": "code",
   "execution_count": null,
   "metadata": {},
   "outputs": [],
   "source": [
    "driver.get(url)\n",
    "elements = driver.find_elements(By.CLASS_NAME, 'hash-tag')"
   ]
  },
  {
   "cell_type": "code",
   "execution_count": null,
   "metadata": {},
   "outputs": [],
   "source": [
    "# Let's prepare for it.\n",
    "\n",
    "transactions = []\n",
    "toAdx = ''\n",
    "fromAdx = ''\n",
    "\n",
    "## Go through all elements containing an address or a transaction hash.\n",
    "for i in range(len(elements)):\n",
    "    adx = elements[i-1].text\n",
    "    if i % 2 and not i % 3 == 0:\n",
    "        fromAdx = adx\n",
    "    if i % 3 == 0:\n",
    "        toAdx = adx\n",
    "        transactions.append((fromAdx, toAdx))\n",
    "\n",
    "print(transactions)\n",
    "\n",
    "print(len(transactions))"
   ]
  },
  {
   "cell_type": "markdown",
   "metadata": {},
   "source": [
    "Let's build some simple statistics, counting the number of times an address receive/send a transaction. \n"
   ]
  },
  {
   "cell_type": "code",
   "execution_count": null,
   "metadata": {},
   "outputs": [],
   "source": [
    "from collections import defaultdict\n",
    "sentCounts = defaultdict(int)\n",
    "receivedCounts = defaultdict(int)\n",
    "\n",
    "for i in range(len(elements)):\n",
    "    adx = elements[i-1].text\n",
    "    if i % 2 and not i % 3 == 0:\n",
    "        sentCounts[adx] += 1\n",
    "    if i % 3 == 0:\n",
    "        receivedCounts[adx] += 1\n",
    "\n",
    "\n",
    "print('Sent Counts')\n",
    "print(sentCounts)\n",
    "print('Received Counts')\n",
    "print(receivedCounts)"
   ]
  },
  {
   "cell_type": "code",
   "execution_count": null,
   "metadata": {},
   "outputs": [],
   "source": [
    "# Support functions.\n",
    "\n",
    "from datetime import datetime\n",
    "\n",
    "def print_time():\n",
    "    now = datetime.now()\n",
    "    # dd/mm/YY H:M:S\n",
    "    dt_string = now.strftime(\"%d/%m/%Y %H:%M:%S\")\n",
    "    print(\"time: \", dt_string)\n",
    "\n",
    "def update_to_from(elements):\n",
    "    for i in range(len(elements)):\n",
    "        adx = elements[i-1].text\n",
    "        if i % 2 and not i % 3 == 0:\n",
    "            sentCounts[adx] += 1\n",
    "        if i % 3 == 0:\n",
    "            receivedCounts[adx] += 1\n"
   ]
  },
  {
   "cell_type": "code",
   "execution_count": null,
   "metadata": {},
   "outputs": [],
   "source": [
    "# Fetch multiple pages of transactions.\n",
    "\n",
    "url = 'https://etherscan.io/txs?ps=100&p='\n",
    "\n",
    "# Reset counts.\n",
    "sentCounts = defaultdict(int)\n",
    "receivedCounts = defaultdict(int)\n",
    "\n",
    "for i in range(1,4):\n",
    "    my_url = url + str(i)\n",
    "    driver.get(my_url)\n",
    "    elements = driver.find_elements(By.CLASS_NAME, 'hash-tag')\n",
    "    update_to_from(elements)\n",
    "    print_time()\n",
    "\n"
   ]
  },
  {
   "cell_type": "code",
   "execution_count": null,
   "metadata": {},
   "outputs": [],
   "source": [
    "def printSorted(dic):\n",
    "    sorted_dic = sorted(dic.items(), key=lambda x: x[1], reverse=True)\n",
    "    for i in sorted_dic:\n",
    "        print(i[0], i[1])\n"
   ]
  },
  {
   "cell_type": "code",
   "execution_count": null,
   "metadata": {},
   "outputs": [],
   "source": [
    "printSorted(sentCounts)\n"
   ]
  },
  {
   "cell_type": "code",
   "execution_count": null,
   "metadata": {},
   "outputs": [],
   "source": [
    "printSorted(receivedCounts)"
   ]
  },
  {
   "cell_type": "markdown",
   "metadata": {},
   "source": [
    "Let's gather more pages of transactions.\n",
    "\n",
    "We can also try out different methods."
   ]
  },
  {
   "cell_type": "code",
   "execution_count": null,
   "metadata": {},
   "outputs": [],
   "source": [
    "def getTxs(n=3, reset=True, showCounts=True, method=\"requests\"):\n",
    "    # Access global variables from within a function's body.\n",
    "    global sentCounts\n",
    "    global receivedCounts\n",
    "\n",
    "    url = 'https://etherscan.io/txs?ps=100&p='\n",
    "\n",
    "    # Reset counts.\n",
    "    if reset:\n",
    "        print('Counts reseted')\n",
    "        sentCounts = defaultdict(int)\n",
    "        receivedCounts = defaultdict(int)\n",
    "\n",
    "    for i in range(1,n+1):\n",
    "        my_url = url + str(i)\n",
    "\n",
    "        if method == \"requests\":\n",
    "            html = requests.get(my_url, headers=hdr)\n",
    "            soup = BeautifulSoup(html.content, 'html.parser')\n",
    "            elements = soup.select(\".hash-tag\")\n",
    "        elif method == \"selenium\":\n",
    "            driver.get(my_url)\n",
    "            elements = driver.find_elements(By.CLASS_NAME, 'hash-tag')\n",
    "        elif method == \"urllib\":\n",
    "            req = Request(url, headers = hdr)\n",
    "            page = urlopen(req)\n",
    "            soup = BeautifulSoup(page, 'html.parser')\n",
    "            elements = soup.select(\".hash-tag\")\n",
    "\n",
    "        update_to_from(elements) \n",
    "        print_time()\n",
    "    \n",
    "    if showCounts:\n",
    "        printSorted(sentCounts)\n",
    "        printSorted(receivedCounts)\n",
    " "
   ]
  },
  {
   "cell_type": "code",
   "execution_count": null,
   "metadata": {},
   "outputs": [],
   "source": [
    "getTxs(1, method = \"selenium\", showCounts = False)"
   ]
  },
  {
   "cell_type": "code",
   "execution_count": null,
   "metadata": {},
   "outputs": [],
   "source": [
    "getTxs(1, method = \"requests\", showCounts = False)"
   ]
  },
  {
   "cell_type": "code",
   "execution_count": null,
   "metadata": {},
   "outputs": [],
   "source": [
    "getTxs(1, method = \"urllib\", showCounts = False)"
   ]
  },
  {
   "cell_type": "code",
   "execution_count": null,
   "metadata": {},
   "outputs": [],
   "source": [
    "printSorted(sentCounts)"
   ]
  },
  {
   "cell_type": "code",
   "execution_count": null,
   "metadata": {},
   "outputs": [],
   "source": [
    "printSorted(receivedCounts)"
   ]
  },
  {
   "cell_type": "code",
   "execution_count": null,
   "metadata": {},
   "outputs": [],
   "source": [
    "import pandas as pd"
   ]
  },
  {
   "cell_type": "code",
   "execution_count": null,
   "metadata": {},
   "outputs": [],
   "source": [
    "# Sent.\n",
    "items = sentCounts.items()\n",
    "df_sent = pd.DataFrame.from_dict(items)\n",
    "df_sent.columns = [\"address\", \"sent\"]\n",
    "df_sent.sort_values(by=\"sent\", ascending=False)"
   ]
  },
  {
   "cell_type": "code",
   "execution_count": null,
   "metadata": {},
   "outputs": [],
   "source": [
    "# Sent.\n",
    "items = receivedCounts.items()\n",
    "df_received = pd.DataFrame.from_dict(items)\n",
    "df_received.columns = [\"address\", \"received\"]\n",
    "df_received.sort_values(by=\"received\", ascending=False)"
   ]
  },
  {
   "cell_type": "code",
   "execution_count": null,
   "metadata": {},
   "outputs": [],
   "source": [
    "df_txs = pd.merge(df_sent, df_received, on = \"address\", how = \"outer\")\n",
    "df_txs = df_txs.fillna(0)\n",
    "df_txs.sort_values(by=\"received\", ascending=False)"
   ]
  },
  {
   "cell_type": "code",
   "execution_count": null,
   "metadata": {},
   "outputs": [],
   "source": [
    "df_txs.plot.scatter(x='sent',\n",
    "                    y='received',\n",
    "                    c='DarkBlue')"
   ]
  },
  {
   "cell_type": "code",
   "execution_count": null,
   "metadata": {},
   "outputs": [],
   "source": [
    "import random\n",
    "\n",
    "def jitter(x):\n",
    "    return x + random.uniform(0, .5) -.25\n",
    "\n",
    "df_txs['sent_jit'] = df_txs['sent'].apply(lambda x: jitter(x))\n",
    "df_txs['received_jit'] = df_txs['received'].apply(lambda x: jitter(x))"
   ]
  },
  {
   "cell_type": "code",
   "execution_count": null,
   "metadata": {},
   "outputs": [],
   "source": [
    "df_txs.plot.scatter(x='sent_jit',\n",
    "                    y='received_jit',\n",
    "                    c='DarkBlue')"
   ]
  }
 ],
 "metadata": {
  "kernelspec": {
   "display_name": "Python 3.9.1 64-bit",
   "language": "python",
   "name": "python3"
  },
  "language_info": {
   "codemirror_mode": {
    "name": "ipython",
    "version": 3
   },
   "file_extension": ".py",
   "mimetype": "text/x-python",
   "name": "python",
   "nbconvert_exporter": "python",
   "pygments_lexer": "ipython3",
   "version": "3.9.1"
  },
  "vscode": {
   "interpreter": {
    "hash": "c32e70da788b7e7a251586b987d2c569d373765eb2af3ced0674c402bf99c5a2"
   }
  }
 },
 "nbformat": 4,
 "nbformat_minor": 4
}
