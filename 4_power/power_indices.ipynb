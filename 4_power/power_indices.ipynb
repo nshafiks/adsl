{
 "cells": [
  {
   "cell_type": "markdown",
   "metadata": {},
   "source": [
    "## Theoretical Power"
   ]
  },
  {
   "cell_type": "code",
   "execution_count": 1,
   "metadata": {},
   "outputs": [],
   "source": [
    "import itertools\n",
    "import numpy as np"
   ]
  },
  {
   "cell_type": "markdown",
   "metadata": {},
   "source": [
    "Define weights and quorum"
   ]
  },
  {
   "cell_type": "code",
   "execution_count": 2,
   "metadata": {},
   "outputs": [],
   "source": [
    "## Number of votes necessary to approve initiative.\n",
    "QUORUM = 10\n",
    "\n",
    "## Weights of each player.\n",
    "weights = [ 1, 5, 7, 3 ]\n",
    "N = len(weights)\n",
    "\n",
    "## Index of players (from 0 to N-1)\n",
    "players = range(N)"
   ]
  },
  {
   "cell_type": "markdown",
   "metadata": {},
   "source": [
    "#### Shapley Index\n",
    "\n",
    "\"The power of a coalition (or a player) is measured by the fraction of the possible voting sequences in which that coalition casts the deciding vote, that is, the vote that first guarantees passage or failure.\"\n",
    "\n",
    "https://en.wikipedia.org/wiki/Shapley%E2%80%93Shubik_power_index\n",
    "\n",
    "_Note:_ The key word is \"sequences\"."
   ]
  },
  {
   "cell_type": "markdown",
   "metadata": {},
   "source": [
    "**Exercise: Compute the Shapley index for all players.**\n",
    "\n",
    "_Note:_ `itertools` is your friend."
   ]
  },
  {
   "cell_type": "code",
   "execution_count": null,
   "metadata": {},
   "outputs": [],
   "source": [
    "## Your code here."
   ]
  },
  {
   "cell_type": "markdown",
   "metadata": {},
   "source": [
    "#### Banzhaf Index\n",
    "\n",
    "\"To calculate the power of a voter using the Banzhaf index, list all the winning coalitions, then count the critical voters. A critical voter is a voter who, if he changed his vote from yes to no, would cause the measure to fail.\"\n",
    "\n",
    "https://en.wikipedia.org/wiki/Banzhaf_power_index"
   ]
  },
  {
   "cell_type": "markdown",
   "metadata": {},
   "source": [
    "**Exercise: Compute the Banzhaf index for all players.**\n"
   ]
  },
  {
   "cell_type": "code",
   "execution_count": null,
   "metadata": {},
   "outputs": [],
   "source": [
    "## Your code here."
   ]
  },
  {
   "cell_type": "markdown",
   "metadata": {},
   "source": [
    "## Empirical Power\n",
    "\n",
    "Potential and exercised.\n",
    "Based on \"Voting Behavior and Power in Online Democracy: A Study of LiquidFeedback in Germany's Pirate Party\" by Kling et al. 2015."
   ]
  },
  {
   "cell_type": "code",
   "execution_count": 12,
   "metadata": {},
   "outputs": [
    {
     "name": "stdout",
     "output_type": "stream",
     "text": [
      "3 1 0\n",
      "13 3\n"
     ]
    }
   ],
   "source": [
    "QUORUM = 10\n",
    "\n",
    "## Here we have both weights and votes.\n",
    "weights = [ 1, 5, 7, 3 ]\n",
    "votes = [ 1, 1, 1, -1]\n",
    "\n",
    "N = len(weights)\n",
    "players = range(N)\n",
    "\n",
    "n_infavor = votes.count(1)\n",
    "n_against = votes.count(-1)\n",
    "n_abstained = N - n_infavor - n_against\n",
    "\n",
    "print(n_infavor, n_against, n_abstained)\n",
    "\n",
    "## Summing total weights in favor (positive) \n",
    "## and against (negative).\n",
    "Wp = 0\n",
    "Wn = 0\n",
    "\n",
    "for i in range(N):\n",
    "    if votes[i] == 1: Wp += weights[i]\n",
    "    elif votes[i] == -1: Wn += weights[i]\n",
    "\n",
    "print(Wp, Wn)"
   ]
  },
  {
   "cell_type": "markdown",
   "metadata": {},
   "source": [
    "#### Potential Power\n",
    "\n",
    "Potential power tests if a weight _i_ is larger than the distance to quorum of all remaining votes:\n",
    "\n",
    "It is equal to:\n",
    "\n",
    "- 1, if test is positive;\n",
    "- 0, if test is negative"
   ]
  },
  {
   "cell_type": "markdown",
   "metadata": {},
   "source": [
    "**Exercise: Compute potential power for a given player.**\n",
    "\n",
    "_Note_: in the paper they use quorum as a fraction, but you can use it as a count."
   ]
  },
  {
   "cell_type": "code",
   "execution_count": null,
   "metadata": {},
   "outputs": [],
   "source": [
    "## Your code here."
   ]
  },
  {
   "cell_type": "markdown",
   "metadata": {},
   "source": [
    "#### Exercised Power\n",
    "\n",
    "Exercised power tests if the outcome of a voting is different with and without a player _i_:\n",
    "\n",
    "It is equal to:\n",
    "\n",
    "- 1, if test is positive (outcomes differ);\n",
    "- 0, if test is negative (same outcome)"
   ]
  },
  {
   "cell_type": "markdown",
   "metadata": {},
   "source": [
    "**Exercise: Compute exercised power for a given player.**\n",
    "\n",
    "_Note_: in the paper they use quorum as a fraction, but you can use it as a count."
   ]
  },
  {
   "cell_type": "code",
   "execution_count": null,
   "metadata": {},
   "outputs": [],
   "source": [
    "## Your code here."
   ]
  }
 ],
 "metadata": {
  "kernelspec": {
   "display_name": "Python 3.9.12 ('base')",
   "language": "python",
   "name": "python3"
  },
  "language_info": {
   "codemirror_mode": {
    "name": "ipython",
    "version": 3
   },
   "file_extension": ".py",
   "mimetype": "text/x-python",
   "name": "python",
   "nbconvert_exporter": "python",
   "pygments_lexer": "ipython3",
   "version": "3.9.12"
  },
  "orig_nbformat": 4,
  "vscode": {
   "interpreter": {
    "hash": "4f523f7c76dd18e7ed336217f32f6f704c23c323644912475b9d3570cf04b060"
   }
  }
 },
 "nbformat": 4,
 "nbformat_minor": 2
}
