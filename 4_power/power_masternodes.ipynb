{
 "cells": [
  {
   "cell_type": "markdown",
   "metadata": {},
   "source": [
    "## Power Masternodes\n",
    "\n",
    "First, load everthing at once."
   ]
  },
  {
   "cell_type": "code",
   "execution_count": 3,
   "metadata": {},
   "outputs": [
    {
     "name": "stdout",
     "output_type": "stream",
     "text": [
      "1.3.1\n",
      "1.19.4\n",
      "2.28.1\n",
      "3.4.2\n"
     ]
    }
   ],
   "source": [
    "import requests\n",
    "import pandas as pd\n",
    "import numpy as np\n",
    "import matplotlib.pyplot as plt\n",
    "\n",
    "from gql import gql, Client\n",
    "from gql.transport.aiohttp import AIOHTTPTransport\n",
    "\n",
    "from etherscan import Etherscan\n",
    "\n",
    "import json\n",
    "import time\n",
    "import os\n",
    "import random\n",
    "import math\n",
    "\n",
    "import scipy.stats as st\n",
    "\n",
    "\n",
    "print(pd.__version__)\n",
    "print(np.__version__)\n",
    "print(requests.__version__)\n",
    "print(plt.matplotlib.__version__)\n",
    "\n",
    "\n",
    "# https://martin-thoma.com/configuration-files-in-python/\n",
    "\n",
    "import json\n",
    "\n",
    "with open(\"../3_api/.private/keys.json\") as keys_file:\n",
    "    KEYS = json.load(keys_file)\n",
    "\n",
    "# Note: don't print the key, or if you do, delete the cell's output\n",
    "# (cell outputs are saved and can be sent to Github).\n",
    "\n",
    "\n",
    "## DEEPDAO\n",
    "\n",
    "def deepdao(query, params=None, post=False):\n",
    "\n",
    "    ENDPOINT = 'https://api.deepdao.io/v0.1/'\n",
    "\n",
    "    headers={\n",
    "        'x-api-key': KEYS['DEEPDAO'],\n",
    "        'accept': 'application/json'\n",
    "    }\n",
    "\n",
    "    if post:\n",
    "        response = requests.post(ENDPOINT + query,\n",
    "                                headers=headers,\n",
    "                                json=params)\n",
    "    else:\n",
    "        response = requests.get(ENDPOINT + query,\n",
    "                                headers=headers,\n",
    "                                params=params)\n",
    "\n",
    "    print(response)\n",
    "    return response.json()\n",
    "\n",
    "## ETHERSCAN\n",
    "############\n",
    "\n",
    "def etherscan(params={}):\n",
    "\n",
    "    ENDPOINT = 'https://api.etherscan.io/api'\n",
    "\n",
    "    params['apikey'] = KEYS['ETHERSCAN']\n",
    "\n",
    "    response = requests.get(ENDPOINT,\n",
    "                            headers={\n",
    "                                'accept': 'application/json',\n",
    "                                \"User-Agent\": \"\"\n",
    "                            },\n",
    "                            params=params)\n",
    "\n",
    "    print(response)\n",
    "    return response.json()\n",
    "\n",
    "\n",
    "eth = Etherscan(KEYS['ETHERSCAN'])\n",
    "\n",
    "## SNAPSHOT\n",
    "###########\n",
    "\n",
    "SNAPSHOT_ENDPOINT = \"https://hub.snapshot.org/graphql\"\n",
    "\n",
    "snapshot = Client(\n",
    "    transport=AIOHTTPTransport(url=SNAPSHOT_ENDPOINT)\n",
    ")\n",
    "\n",
    "\n",
    "def snapshot_rest(query, params=None):\n",
    "\n",
    "    response = requests.post(SNAPSHOT_ENDPOINT,\n",
    "                            headers={                      \n",
    "                                'accept': 'application/json'\n",
    "                            },\n",
    "                            params={\n",
    "                                'query': query\n",
    "                            })\n",
    "\n",
    "    print(response)\n",
    "    return response.json()['data']\n",
    "\n",
    "## THE GRAPH\n",
    "############\n",
    "\n",
    "## Endpoints depends on subgraph of interest.\n",
    "\n",
    "\n",
    "def pd_read_json(file):\n",
    "    ## Prevents Value too big Error.\n",
    "    with open(file) as f:\n",
    "        df = json.load(f)\n",
    "    df = pd.DataFrame(df)\n",
    "    return df\n",
    "\n",
    "\n",
    "def get_query(filename, do_gql=False):\n",
    "    with open(\"gql_queries/\" + filename.replace(\".gql\", \"\") + \".gql\") as f:\n",
    "        query = f.read()\n",
    "        if do_gql: query = gql(query)\n",
    "    return query\n",
    "    \n",
    "## Alias gq.\n",
    "gq = get_query\n",
    "\n",
    "\n",
    "def get_query(filename, do_gql=False):\n",
    "    with open(\"gql_queries/\" + filename.replace(\".gql\", \"\") + \".gql\") as f:\n",
    "        query = f.read()\n",
    "        if do_gql: query = gql(query)\n",
    "    return query\n",
    "    \n",
    "## Alias gq.\n",
    "gq = get_query\n",
    "\n",
    "async def gql_all(query, field, first=1000, skip=None, initial_list=None, \n",
    "                  counter = True, limit=None, save=None, save_interval=10, clear_on_save = False, append=True, rest=False, data_dir=\"data\", save_counter = 1, vars=None):\n",
    "\n",
    "    ## The returned value and the varible used to accumulate results.\n",
    "    out = []\n",
    "\n",
    "    ## Utility function to save intermediate and final results.\n",
    "    def save_json():\n",
    "\n",
    "        # Pandas has problem load pure json saves.\n",
    "        # Hence we create a pandas Dataframe and save it.\n",
    "        # nonlocal append\n",
    "        # flag = \"a\" if append else \"w\"\n",
    "        # with open(\"data/\" + save, flag) as f:\n",
    "        #     json.dump(out, f)\n",
    "        #     print(\"Saved.\")\n",
    "\n",
    "        nonlocal out\n",
    "        df = pd.DataFrame(out)\n",
    "\n",
    "        if clear_on_save:\n",
    "            \n",
    "            nonlocal save_counter\n",
    "            \n",
    "            sv = str(save_counter)\n",
    "            sv = sv.zfill(5)\n",
    "            save_counter += 1\n",
    "\n",
    "            filename = save.replace('.json', '_' + sv + '.json')\n",
    "            \n",
    "            out = []\n",
    "            out_str = \"Saved and cleared.\"\n",
    "        else:\n",
    "            filename = save\n",
    "            out_str = \"Saved.\"\n",
    "        \n",
    "        df.to_json(data_dir + \"/\" + filename, orient=\"records\")\n",
    "        print(out_str)\n",
    "\n",
    "        \n",
    "    ## Load initial list.\n",
    "    ## If no skip is provided, then skip is set to the length of\n",
    "    ## the initial list, otherwise we use the user-specified value\n",
    "    if initial_list:\n",
    "        out = initial_list\n",
    "        if skip is None:\n",
    "            skip = len(out)\n",
    "    elif skip is None:\n",
    "        skip = 0\n",
    "\n",
    "    ## Make a GQL query object, if necessary.\n",
    "    if not rest and type(query) == str:\n",
    "        query = gql(query)\n",
    "        \n",
    "\n",
    "    my_counter = 0\n",
    "    fetch = True\n",
    "    try:\n",
    "        while fetch:\n",
    "            \n",
    "            my_counter += 1\n",
    "            if limit and my_counter > limit:\n",
    "                print('**Limit reached: ', limit)\n",
    "                fetch = False\n",
    "                continue\n",
    "\n",
    "            if rest:\n",
    "\n",
    "                # Building query manually.\n",
    "                q = query.replace(\"($first: Int!, $skip: Int!)\", \"\")\n",
    "                q = q.replace(\"$first\", str(first))\n",
    "                q = q.replace(\"$skip\", str(skip))\n",
    "                # print(q)\n",
    "\n",
    "                ## Optional additional variables.\n",
    "                if vars:\n",
    "                    for v in vars:\n",
    "                        q = q.replace(\"$\" + v, str(vars[v]))\n",
    "\n",
    "                res = snapshot_rest(q)\n",
    "                \n",
    "            else:\n",
    "                \n",
    "                _vars = {\"first\": first, \"skip\": skip}\n",
    "                \n",
    "                ## Optional additional variables.\n",
    "                if vars:\n",
    "                    _vars = _vars | vars\n",
    "\n",
    "                res = await snapshot.execute_async(query, variable_values=_vars)\n",
    "            \n",
    "            if not res[field]:\n",
    "                print('**I am done fetching!**')\n",
    "                fetch = False\n",
    "            else:\n",
    "                out.extend(res[field])\n",
    "                skip += first\n",
    "                if counter: print(my_counter, len(out))\n",
    "\n",
    "                if save and my_counter % save_interval == 0:\n",
    "                    save_json()\n",
    "\n",
    "        if save and my_counter % save_interval != 0:\n",
    "            save_json()\n",
    "\n",
    "    except Exception as e:\n",
    "        print(str(e))\n",
    "        print(\"**An error occurred, exiting early.**\")\n",
    "        if save: save_json()\n",
    "    \n",
    "    return out\n",
    "\n",
    "def pd_read_dir(dir, blacklist=None, whitelist=None, ext=('.json')):\n",
    "    dir_df = pd.DataFrame()\n",
    "    \n",
    "\n",
    "    for file in os.listdir(dir):\n",
    "        if blacklist and file in blacklist:\n",
    "            continue\n",
    "        if whitelist and file not in whitelist:\n",
    "            continue\n",
    "\n",
    "        if file.endswith(ext):\n",
    "            tmp_df = pd_read_json(dir + '/' + file)\n",
    "            dir_df = pd.concat([dir_df, tmp_df])\n",
    "    \n",
    "    return dir_df"
   ]
  },
  {
   "cell_type": "markdown",
   "metadata": {},
   "source": [
    "## Preparing to compute power as in Mosley et al. (2022).\n",
    "\n",
    "\"Towards a systemic understanding of blockchain governance in proposal voting: A dash case study.\""
   ]
  },
  {
   "cell_type": "markdown",
   "metadata": {},
   "source": [
    "Load `spaces`, `proposals`, and `votes`."
   ]
  },
  {
   "cell_type": "code",
   "execution_count": 4,
   "metadata": {},
   "outputs": [],
   "source": [
    "spaces = pd_read_json(\"data/snapshot_spaces.json\")\n",
    "\n",
    "all_proposals = pd_read_json(\"data/snapshot_proposals.json\")\n"
   ]
  },
  {
   "cell_type": "code",
   "execution_count": 6,
   "metadata": {},
   "outputs": [],
   "source": [
    "## If downloaded already.\n",
    "all_votes = pd_read_dir(\"data/votes\")"
   ]
  },
  {
   "cell_type": "code",
   "execution_count": null,
   "metadata": {},
   "outputs": [],
   "source": [
    "## Otherwise.\n",
    "## This query takes a while...\n",
    "# votes_query = gq(\"snapshot_votes\")\n",
    "# res = await gql_all(votes_query, \n",
    "#                     field=\"votes\", \n",
    "#                     rest=True,\n",
    "#                     save=\"snapshot_votes_test.json\",\n",
    "#                     data_dir=\"data/votes/\",\n",
    "#                     save_interval = 20,\n",
    "#                     limit=2,\n",
    "#                     first=20000, # First can be a high number.\n",
    "#                     clear_on_save=True\n",
    "#                     )"
   ]
  },
  {
   "cell_type": "code",
   "execution_count": 7,
   "metadata": {},
   "outputs": [
    {
     "name": "stdout",
     "output_type": "stream",
     "text": [
      "spaces:  11072\n",
      "proposals:  69266\n",
      "votes:  5494790\n"
     ]
    }
   ],
   "source": [
    "print(\"spaces: \", len(spaces))\n",
    "print(\"proposals: \", len(all_proposals))\n",
    "print(\"votes: \", len(all_votes))"
   ]
  },
  {
   "cell_type": "markdown",
   "metadata": {},
   "source": [
    "### Cleanup"
   ]
  },
  {
   "cell_type": "markdown",
   "metadata": {},
   "source": [
    "#### Proposals"
   ]
  },
  {
   "cell_type": "code",
   "execution_count": 8,
   "metadata": {},
   "outputs": [
    {
     "name": "stdout",
     "output_type": "stream",
     "text": [
      "<class 'pandas.core.frame.DataFrame'>\n",
      "RangeIndex: 69266 entries, 0 to 69265\n",
      "Data columns (total 27 columns):\n",
      " #   Column              Non-Null Count  Dtype  \n",
      "---  ------              --------------  -----  \n",
      " 0   id                  69266 non-null  object \n",
      " 1   ipfs                69266 non-null  object \n",
      " 2   author              69266 non-null  object \n",
      " 3   created             69266 non-null  int64  \n",
      " 4   space               69266 non-null  object \n",
      " 5   network             69266 non-null  object \n",
      " 6   symbol              69266 non-null  object \n",
      " 7   type                69266 non-null  object \n",
      " 8   strategies          69266 non-null  object \n",
      " 9   plugins             69266 non-null  object \n",
      " 10  title               69266 non-null  object \n",
      " 11  body                69266 non-null  object \n",
      " 12  discussion          69266 non-null  object \n",
      " 13  choices             69266 non-null  object \n",
      " 14  start               69266 non-null  int64  \n",
      " 15  end                 69266 non-null  int64  \n",
      " 16  quorum              69266 non-null  float64\n",
      " 17  snapshot            69266 non-null  object \n",
      " 18  state               69266 non-null  object \n",
      " 19  link                69266 non-null  object \n",
      " 20  app                 69266 non-null  object \n",
      " 21  scores              69266 non-null  object \n",
      " 22  scores_by_strategy  69266 non-null  object \n",
      " 23  scores_state        69266 non-null  object \n",
      " 24  scores_total        69266 non-null  object \n",
      " 25  scores_updated      69266 non-null  int64  \n",
      " 26  votes               69266 non-null  int64  \n",
      "dtypes: float64(1), int64(5), object(21)\n",
      "memory usage: 14.3+ MB\n"
     ]
    }
   ],
   "source": [
    "all_proposals.info()"
   ]
  },
  {
   "cell_type": "code",
   "execution_count": 9,
   "metadata": {},
   "outputs": [],
   "source": [
    "all_proposals['space'] = all_proposals['space'].apply(lambda x : x['id'])\n"
   ]
  },
  {
   "cell_type": "code",
   "execution_count": 10,
   "metadata": {},
   "outputs": [
    {
     "data": {
      "text/plain": [
       "0    balancer.eth\n",
       "1    balancer.eth\n",
       "2    balancer.eth\n",
       "3    balancer.eth\n",
       "4    balancer.eth\n",
       "Name: space, dtype: object"
      ]
     },
     "execution_count": 10,
     "metadata": {},
     "output_type": "execute_result"
    }
   ],
   "source": [
    "all_proposals['space'].head() "
   ]
  },
  {
   "cell_type": "markdown",
   "metadata": {},
   "source": [
    "#### Votes."
   ]
  },
  {
   "cell_type": "code",
   "execution_count": 11,
   "metadata": {},
   "outputs": [
    {
     "data": {
      "text/html": [
       "<div>\n",
       "<style scoped>\n",
       "    .dataframe tbody tr th:only-of-type {\n",
       "        vertical-align: middle;\n",
       "    }\n",
       "\n",
       "    .dataframe tbody tr th {\n",
       "        vertical-align: top;\n",
       "    }\n",
       "\n",
       "    .dataframe thead th {\n",
       "        text-align: right;\n",
       "    }\n",
       "</style>\n",
       "<table border=\"1\" class=\"dataframe\">\n",
       "  <thead>\n",
       "    <tr style=\"text-align: right;\">\n",
       "      <th></th>\n",
       "      <th>id</th>\n",
       "      <th>ipfs</th>\n",
       "      <th>voter</th>\n",
       "      <th>created</th>\n",
       "      <th>space</th>\n",
       "      <th>proposal</th>\n",
       "      <th>choice</th>\n",
       "      <th>metadata</th>\n",
       "      <th>reason</th>\n",
       "      <th>app</th>\n",
       "      <th>vp</th>\n",
       "      <th>vp_by_strategy</th>\n",
       "      <th>vp_state</th>\n",
       "    </tr>\n",
       "  </thead>\n",
       "  <tbody>\n",
       "    <tr>\n",
       "      <th>0</th>\n",
       "      <td>QmY3RStzfrjtnFUmZvwfriqtobDndKC2v5bY7gGt3yqmdk</td>\n",
       "      <td>QmY3RStzfrjtnFUmZvwfriqtobDndKC2v5bY7gGt3yqmdk</td>\n",
       "      <td>0xfe36132CAa71c4B1A88b38B79373aAb5E001457c</td>\n",
       "      <td>1636888820</td>\n",
       "      <td>{'id': 'pancake'}</td>\n",
       "      <td>{'id': '0x8aec905ad562f5a320f7ae7d11d4d3de5eb4...</td>\n",
       "      <td>1</td>\n",
       "      <td>{}</td>\n",
       "      <td></td>\n",
       "      <td></td>\n",
       "      <td>0.001</td>\n",
       "      <td>[0.001]</td>\n",
       "      <td>final</td>\n",
       "    </tr>\n",
       "    <tr>\n",
       "      <th>1</th>\n",
       "      <td>QmZh17iC3C8pUD9J9xxCKHwPdtqetbMUyDndd5JdMYkP77</td>\n",
       "      <td>QmZh17iC3C8pUD9J9xxCKHwPdtqetbMUyDndd5JdMYkP77</td>\n",
       "      <td>0xD3815588b090Cd966fA078134517eb091ea5a22c</td>\n",
       "      <td>1636888820</td>\n",
       "      <td>{'id': 'pancake'}</td>\n",
       "      <td>{'id': '0x8aec905ad562f5a320f7ae7d11d4d3de5eb4...</td>\n",
       "      <td>1</td>\n",
       "      <td>{}</td>\n",
       "      <td></td>\n",
       "      <td></td>\n",
       "      <td>0.001</td>\n",
       "      <td>[0.001]</td>\n",
       "      <td>final</td>\n",
       "    </tr>\n",
       "    <tr>\n",
       "      <th>2</th>\n",
       "      <td>QmbXri9w7yau8mU7J91cRgT3FLNDgaKpm7DbQhESgJnzD6</td>\n",
       "      <td>QmbXri9w7yau8mU7J91cRgT3FLNDgaKpm7DbQhESgJnzD6</td>\n",
       "      <td>0x6e02F9ebcbeA1D919E77d237cD32150d00F41B03</td>\n",
       "      <td>1636888821</td>\n",
       "      <td>{'id': 'pancake'}</td>\n",
       "      <td>{'id': '0xc36810958127e4d424b287cf168e972abdc6...</td>\n",
       "      <td>1</td>\n",
       "      <td>{}</td>\n",
       "      <td></td>\n",
       "      <td></td>\n",
       "      <td>0.001</td>\n",
       "      <td>[0.001]</td>\n",
       "      <td>final</td>\n",
       "    </tr>\n",
       "    <tr>\n",
       "      <th>3</th>\n",
       "      <td>Qmc885Jdk1qPQLYpWyj2dSSG1azMgCFEtYZrs68tD3uTK5</td>\n",
       "      <td>Qmc885Jdk1qPQLYpWyj2dSSG1azMgCFEtYZrs68tD3uTK5</td>\n",
       "      <td>0x0b0498E4FB7817358fee5B20501DB0cE7e40bA36</td>\n",
       "      <td>1636888821</td>\n",
       "      <td>{'id': 'pancake'}</td>\n",
       "      <td>{'id': '0xff8e1a71a0675b8fd96c7828c1df1e0939ac...</td>\n",
       "      <td>1</td>\n",
       "      <td>{}</td>\n",
       "      <td></td>\n",
       "      <td></td>\n",
       "      <td>0.001</td>\n",
       "      <td>[0.001]</td>\n",
       "      <td>final</td>\n",
       "    </tr>\n",
       "    <tr>\n",
       "      <th>4</th>\n",
       "      <td>QmdoVaEeaEVC3hnycezMozfQ2gHWCLujcw4bXovaGgtXzz</td>\n",
       "      <td>QmdoVaEeaEVC3hnycezMozfQ2gHWCLujcw4bXovaGgtXzz</td>\n",
       "      <td>0xadEF37Aa14Ef396167982a3c547a0C796C01f28C</td>\n",
       "      <td>1636888821</td>\n",
       "      <td>{'id': 'pancake'}</td>\n",
       "      <td>{'id': '0x8aec905ad562f5a320f7ae7d11d4d3de5eb4...</td>\n",
       "      <td>1</td>\n",
       "      <td>{}</td>\n",
       "      <td></td>\n",
       "      <td></td>\n",
       "      <td>0.001</td>\n",
       "      <td>[0.001]</td>\n",
       "      <td>final</td>\n",
       "    </tr>\n",
       "  </tbody>\n",
       "</table>\n",
       "</div>"
      ],
      "text/plain": [
       "                                               id  \\\n",
       "0  QmY3RStzfrjtnFUmZvwfriqtobDndKC2v5bY7gGt3yqmdk   \n",
       "1  QmZh17iC3C8pUD9J9xxCKHwPdtqetbMUyDndd5JdMYkP77   \n",
       "2  QmbXri9w7yau8mU7J91cRgT3FLNDgaKpm7DbQhESgJnzD6   \n",
       "3  Qmc885Jdk1qPQLYpWyj2dSSG1azMgCFEtYZrs68tD3uTK5   \n",
       "4  QmdoVaEeaEVC3hnycezMozfQ2gHWCLujcw4bXovaGgtXzz   \n",
       "\n",
       "                                             ipfs  \\\n",
       "0  QmY3RStzfrjtnFUmZvwfriqtobDndKC2v5bY7gGt3yqmdk   \n",
       "1  QmZh17iC3C8pUD9J9xxCKHwPdtqetbMUyDndd5JdMYkP77   \n",
       "2  QmbXri9w7yau8mU7J91cRgT3FLNDgaKpm7DbQhESgJnzD6   \n",
       "3  Qmc885Jdk1qPQLYpWyj2dSSG1azMgCFEtYZrs68tD3uTK5   \n",
       "4  QmdoVaEeaEVC3hnycezMozfQ2gHWCLujcw4bXovaGgtXzz   \n",
       "\n",
       "                                        voter     created              space  \\\n",
       "0  0xfe36132CAa71c4B1A88b38B79373aAb5E001457c  1636888820  {'id': 'pancake'}   \n",
       "1  0xD3815588b090Cd966fA078134517eb091ea5a22c  1636888820  {'id': 'pancake'}   \n",
       "2  0x6e02F9ebcbeA1D919E77d237cD32150d00F41B03  1636888821  {'id': 'pancake'}   \n",
       "3  0x0b0498E4FB7817358fee5B20501DB0cE7e40bA36  1636888821  {'id': 'pancake'}   \n",
       "4  0xadEF37Aa14Ef396167982a3c547a0C796C01f28C  1636888821  {'id': 'pancake'}   \n",
       "\n",
       "                                            proposal choice metadata reason  \\\n",
       "0  {'id': '0x8aec905ad562f5a320f7ae7d11d4d3de5eb4...      1       {}          \n",
       "1  {'id': '0x8aec905ad562f5a320f7ae7d11d4d3de5eb4...      1       {}          \n",
       "2  {'id': '0xc36810958127e4d424b287cf168e972abdc6...      1       {}          \n",
       "3  {'id': '0xff8e1a71a0675b8fd96c7828c1df1e0939ac...      1       {}          \n",
       "4  {'id': '0x8aec905ad562f5a320f7ae7d11d4d3de5eb4...      1       {}          \n",
       "\n",
       "  app     vp vp_by_strategy vp_state  \n",
       "0      0.001        [0.001]    final  \n",
       "1      0.001        [0.001]    final  \n",
       "2      0.001        [0.001]    final  \n",
       "3      0.001        [0.001]    final  \n",
       "4      0.001        [0.001]    final  "
      ]
     },
     "execution_count": 11,
     "metadata": {},
     "output_type": "execute_result"
    }
   ],
   "source": [
    "all_votes.head()\n"
   ]
  },
  {
   "cell_type": "code",
   "execution_count": 12,
   "metadata": {},
   "outputs": [],
   "source": [
    "all_votes['space'] = all_votes['space'].apply(lambda x : x['id'])\n"
   ]
  },
  {
   "cell_type": "code",
   "execution_count": 13,
   "metadata": {},
   "outputs": [],
   "source": [
    "## Returns an error, we need to account for a None field.\n",
    "# all_votes['proposal'] = all_votes['proposal'].apply(lambda x : x['id'])\n",
    "\n",
    "all_votes['proposal'] = all_votes['proposal'].apply(lambda x : \n",
    "    x if x is None else x['id']\n",
    ")"
   ]
  },
  {
   "cell_type": "markdown",
   "metadata": {},
   "source": [
    "#### Pancake Swap"
   ]
  },
  {
   "cell_type": "markdown",
   "metadata": {},
   "source": [
    "Who did most of the proposals?"
   ]
  },
  {
   "cell_type": "code",
   "execution_count": 14,
   "metadata": {},
   "outputs": [
    {
     "data": {
      "text/plain": [
       "'pancake'"
      ]
     },
     "execution_count": 14,
     "metadata": {},
     "output_type": "execute_result"
    }
   ],
   "source": [
    "most_props = spaces[spaces['proposalsCount'] == max(spaces['proposalsCount'])]\n",
    "DAO_MOST_PROPS_ID = most_props['id'].iloc[0]\n",
    "DAO_MOST_PROPS_ID\n"
   ]
  },
  {
   "cell_type": "code",
   "execution_count": 15,
   "metadata": {},
   "outputs": [
    {
     "data": {
      "text/plain": [
       "pancake                     2263\n",
       "snapshot.dcl.eth            1406\n",
       "cakevote.eth                1304\n",
       "frami.eth                    637\n",
       "huwacoin.eth                 599\n",
       "                            ... \n",
       "0xgene.eth                     1\n",
       "palladiumfinance.eth           1\n",
       "bankofryoshideployer.eth       1\n",
       "saturnworld.eth                1\n",
       "toshikovault.eth               1\n",
       "Name: space, Length: 8267, dtype: int64"
      ]
     },
     "execution_count": 15,
     "metadata": {},
     "output_type": "execute_result"
    }
   ],
   "source": [
    "all_proposals['space'].value_counts()"
   ]
  },
  {
   "cell_type": "code",
   "execution_count": 17,
   "metadata": {},
   "outputs": [
    {
     "name": "stdout",
     "output_type": "stream",
     "text": [
      "<class 'pandas.core.frame.DataFrame'>\n",
      "Int64Index: 2263 entries, 785 to 67501\n",
      "Data columns (total 27 columns):\n",
      " #   Column              Non-Null Count  Dtype  \n",
      "---  ------              --------------  -----  \n",
      " 0   id                  2263 non-null   object \n",
      " 1   ipfs                2263 non-null   object \n",
      " 2   author              2263 non-null   object \n",
      " 3   created             2263 non-null   int64  \n",
      " 4   space               2263 non-null   object \n",
      " 5   network             2263 non-null   object \n",
      " 6   symbol              2263 non-null   object \n",
      " 7   type                2263 non-null   object \n",
      " 8   strategies          2263 non-null   object \n",
      " 9   plugins             2263 non-null   object \n",
      " 10  title               2263 non-null   object \n",
      " 11  body                2263 non-null   object \n",
      " 12  discussion          2263 non-null   object \n",
      " 13  choices             2263 non-null   object \n",
      " 14  start               2263 non-null   int64  \n",
      " 15  end                 2263 non-null   int64  \n",
      " 16  quorum              2263 non-null   float64\n",
      " 17  snapshot            2263 non-null   object \n",
      " 18  state               2263 non-null   object \n",
      " 19  link                2263 non-null   object \n",
      " 20  app                 2263 non-null   object \n",
      " 21  scores              2263 non-null   object \n",
      " 22  scores_by_strategy  2263 non-null   object \n",
      " 23  scores_state        2263 non-null   object \n",
      " 24  scores_total        2263 non-null   object \n",
      " 25  scores_updated      2263 non-null   int64  \n",
      " 26  votes               2263 non-null   int64  \n",
      "dtypes: float64(1), int64(5), object(21)\n",
      "memory usage: 495.0+ KB\n"
     ]
    }
   ],
   "source": [
    "pancake_props = all_proposals[all_proposals['space'] == DAO_MOST_PROPS_ID ]\n",
    "pancake_props.info()"
   ]
  },
  {
   "cell_type": "code",
   "execution_count": 16,
   "metadata": {},
   "outputs": [
    {
     "name": "stdout",
     "output_type": "stream",
     "text": [
      "<class 'pandas.core.frame.DataFrame'>\n",
      "Int64Index: 100529 entries, 0 to 16262\n",
      "Data columns (total 13 columns):\n",
      " #   Column          Non-Null Count   Dtype \n",
      "---  ------          --------------   ----- \n",
      " 0   id              100529 non-null  object\n",
      " 1   ipfs            100529 non-null  object\n",
      " 2   voter           100529 non-null  object\n",
      " 3   created         100529 non-null  int64 \n",
      " 4   space           100529 non-null  object\n",
      " 5   proposal        100529 non-null  object\n",
      " 6   choice          100529 non-null  object\n",
      " 7   metadata        100529 non-null  object\n",
      " 8   reason          100529 non-null  object\n",
      " 9   app             100529 non-null  object\n",
      " 10  vp              100529 non-null  object\n",
      " 11  vp_by_strategy  100529 non-null  object\n",
      " 12  vp_state        100529 non-null  object\n",
      "dtypes: int64(1), object(12)\n",
      "memory usage: 10.7+ MB\n"
     ]
    }
   ],
   "source": [
    "pancake_votes = all_votes[all_votes['space'] == DAO_MOST_PROPS_ID ]\n",
    "pancake_votes.info()"
   ]
  },
  {
   "cell_type": "code",
   "execution_count": 17,
   "metadata": {},
   "outputs": [
    {
     "ename": "TypeError",
     "evalue": "unhashable type: 'list'",
     "output_type": "error",
     "traceback": [
      "\u001b[1;31m---------------------------------------------------------------------------\u001b[0m",
      "\u001b[1;31mTypeError\u001b[0m                                 Traceback (most recent call last)",
      "\u001b[1;32mpandas\\_libs\\hashtable_class_helper.pxi\u001b[0m in \u001b[0;36mpandas._libs.hashtable.PyObjectHashTable.map_locations\u001b[1;34m()\u001b[0m\n",
      "\u001b[1;31mTypeError\u001b[0m: unhashable type: 'list'"
     ]
    },
    {
     "name": "stderr",
     "output_type": "stream",
     "text": [
      "Exception ignored in: 'pandas._libs.index.IndexEngine._call_map_locations'\n",
      "Traceback (most recent call last):\n",
      "  File \"pandas\\_libs\\hashtable_class_helper.pxi\", line 5231, in pandas._libs.hashtable.PyObjectHashTable.map_locations\n",
      "TypeError: unhashable type: 'list'\n"
     ]
    },
    {
     "data": {
      "text/plain": [
       "1                     97867\n",
       "2                      1707\n",
       "3                       319\n",
       "[1]                     155\n",
       "4                       116\n",
       "                      ...  \n",
       "[2, 3, 1, 4]              1\n",
       "[1, 4, 8, 7]              1\n",
       "[8, 1, 2, 3, 5, 7]        1\n",
       "[1, 2, 3, 4, 8, 7]        1\n",
       "[2, 1, 3, 4, 5]           1\n",
       "Name: choice, Length: 110, dtype: int64"
      ]
     },
     "execution_count": 17,
     "metadata": {},
     "output_type": "execute_result"
    }
   ],
   "source": [
    "## Generate an error, there are mixed types.\n",
    "pancake_votes['choice'].value_counts()"
   ]
  },
  {
   "cell_type": "code",
   "execution_count": 18,
   "metadata": {},
   "outputs": [
    {
     "data": {
      "text/plain": [
       "count     100529\n",
       "unique       110\n",
       "top            1\n",
       "freq       97867\n",
       "Name: choice, dtype: int64"
      ]
     },
     "execution_count": 18,
     "metadata": {},
     "output_type": "execute_result"
    }
   ],
   "source": [
    "pancake_votes['choice'].describe()"
   ]
  },
  {
   "cell_type": "markdown",
   "metadata": {},
   "source": [
    "Let's remove non 'int' votes (e.g., ranked choices).\n",
    "\n",
    "In the real analysis we should try to analyze all data."
   ]
  },
  {
   "cell_type": "code",
   "execution_count": 19,
   "metadata": {},
   "outputs": [
    {
     "name": "stdout",
     "output_type": "stream",
     "text": [
      "100529\n",
      "99893\n"
     ]
    }
   ],
   "source": [
    "print(len(pancake_votes))\n",
    "pancake_votes = pancake_votes[pancake_votes['choice'].isin([1,2,3])]\n",
    "print(len(pancake_votes))"
   ]
  },
  {
   "cell_type": "code",
   "execution_count": 20,
   "metadata": {},
   "outputs": [
    {
     "data": {
      "text/plain": [
       "1    97867\n",
       "2     1707\n",
       "3      319\n",
       "Name: choice, dtype: int64"
      ]
     },
     "execution_count": 20,
     "metadata": {},
     "output_type": "execute_result"
    }
   ],
   "source": [
    "pancake_votes['choice'].value_counts()"
   ]
  },
  {
   "cell_type": "markdown",
   "metadata": {},
   "source": [
    "Let's center them around zero."
   ]
  },
  {
   "cell_type": "code",
   "execution_count": 21,
   "metadata": {},
   "outputs": [
    {
     "data": {
      "text/plain": [
       "-1    97867\n",
       " 0     1707\n",
       " 1      319\n",
       "Name: choice, dtype: int64"
      ]
     },
     "execution_count": 21,
     "metadata": {},
     "output_type": "execute_result"
    }
   ],
   "source": [
    "pancake_votes['choice'] = pancake_votes['choice'] - 2\n",
    "pancake_votes['choice'].value_counts()"
   ]
  },
  {
   "cell_type": "markdown",
   "metadata": {},
   "source": [
    "How much a node deviate from the others in every proposal."
   ]
  },
  {
   "cell_type": "code",
   "execution_count": 22,
   "metadata": {},
   "outputs": [],
   "source": [
    "def euclid(row):\n",
    "    vote = row['choice']\n",
    "    proposal = row['proposal']\n",
    "    other_votes = pancake_votes[pancake_votes['proposal'] == proposal]\n",
    "    distances = other_votes['choice'].apply(lambda x: math.pow((vote - x), 2))\n",
    "    return math.sqrt(sum(distances))\n",
    "\n",
    "\n",
    "pancake_votes['vote_distance'] = pancake_votes.apply(euclid, axis=1)"
   ]
  },
  {
   "cell_type": "code",
   "execution_count": 23,
   "metadata": {},
   "outputs": [
    {
     "data": {
      "text/plain": [
       "count    99893.000000\n",
       "mean         0.932962\n",
       "std          1.948018\n",
       "min          0.000000\n",
       "25%          0.000000\n",
       "50%          0.000000\n",
       "75%          1.414214\n",
       "max         65.795137\n",
       "Name: vote_distance, dtype: float64"
      ]
     },
     "execution_count": 23,
     "metadata": {},
     "output_type": "execute_result"
    }
   ],
   "source": [
    "pancake_votes['vote_distance'].describe()\n"
   ]
  },
  {
   "cell_type": "code",
   "execution_count": 24,
   "metadata": {},
   "outputs": [
    {
     "data": {
      "text/plain": [
       "<AxesSubplot:ylabel='Frequency'>"
      ]
     },
     "execution_count": 24,
     "metadata": {},
     "output_type": "execute_result"
    },
    {
     "data": {
      "image/png": "[encoded data removed]",
      "text/plain": [
       "<Figure size 432x288 with 1 Axes>"
      ]
     },
     "metadata": {
      "needs_background": "light"
     },
     "output_type": "display_data"
    }
   ],
   "source": [
    "pancake_votes['vote_distance'].plot.hist(bins=100)"
   ]
  },
  {
   "cell_type": "code",
   "execution_count": 28,
   "metadata": {},
   "outputs": [
    {
     "data": {
      "text/html": [
       "<div>\n",
       "<style scoped>\n",
       "    .dataframe tbody tr th:only-of-type {\n",
       "        vertical-align: middle;\n",
       "    }\n",
       "\n",
       "    .dataframe tbody tr th {\n",
       "        vertical-align: top;\n",
       "    }\n",
       "\n",
       "    .dataframe thead th {\n",
       "        text-align: right;\n",
       "    }\n",
       "</style>\n",
       "<table border=\"1\" class=\"dataframe\">\n",
       "  <thead>\n",
       "    <tr style=\"text-align: right;\">\n",
       "      <th></th>\n",
       "      <th>count</th>\n",
       "      <th>mean</th>\n",
       "      <th>std</th>\n",
       "      <th>min</th>\n",
       "      <th>25%</th>\n",
       "      <th>50%</th>\n",
       "      <th>75%</th>\n",
       "      <th>max</th>\n",
       "    </tr>\n",
       "    <tr>\n",
       "      <th>proposal</th>\n",
       "      <th></th>\n",
       "      <th></th>\n",
       "      <th></th>\n",
       "      <th></th>\n",
       "      <th></th>\n",
       "      <th></th>\n",
       "      <th></th>\n",
       "      <th></th>\n",
       "    </tr>\n",
       "  </thead>\n",
       "  <tbody>\n",
       "    <tr>\n",
       "      <th>0x815fcd64997bb3c091e892662a70367c1e86a84de3b5509c26b3785676d66a85</th>\n",
       "      <td>802.0</td>\n",
       "      <td>0.000000</td>\n",
       "      <td>0.000000</td>\n",
       "      <td>0.000000</td>\n",
       "      <td>0.000000</td>\n",
       "      <td>0.000000</td>\n",
       "      <td>0.000000</td>\n",
       "      <td>0.000000</td>\n",
       "    </tr>\n",
       "    <tr>\n",
       "      <th>0x66bafc65f718115ce06b06199d2996456574d88e2205291103e3a880f3e6e028</th>\n",
       "      <td>11.0</td>\n",
       "      <td>0.000000</td>\n",
       "      <td>0.000000</td>\n",
       "      <td>0.000000</td>\n",
       "      <td>0.000000</td>\n",
       "      <td>0.000000</td>\n",
       "      <td>0.000000</td>\n",
       "      <td>0.000000</td>\n",
       "    </tr>\n",
       "    <tr>\n",
       "      <th>0x68ac45487e61b79392d2eafcda98b3717ca0289a5d52e39058da5698d45418c8</th>\n",
       "      <td>1.0</td>\n",
       "      <td>0.000000</td>\n",
       "      <td>NaN</td>\n",
       "      <td>0.000000</td>\n",
       "      <td>0.000000</td>\n",
       "      <td>0.000000</td>\n",
       "      <td>0.000000</td>\n",
       "      <td>0.000000</td>\n",
       "    </tr>\n",
       "    <tr>\n",
       "      <th>0x6922cb2205b02e25949b3d7e3be6c6b4cfffd31bac9a13433b22910a3e6b0cc2</th>\n",
       "      <td>2.0</td>\n",
       "      <td>0.000000</td>\n",
       "      <td>0.000000</td>\n",
       "      <td>0.000000</td>\n",
       "      <td>0.000000</td>\n",
       "      <td>0.000000</td>\n",
       "      <td>0.000000</td>\n",
       "      <td>0.000000</td>\n",
       "    </tr>\n",
       "    <tr>\n",
       "      <th>0xc12044153a4aa450115f0179fa4eb72a357b5d80d0b04c552dfd8c0bf54f239e</th>\n",
       "      <td>246.0</td>\n",
       "      <td>0.000000</td>\n",
       "      <td>0.000000</td>\n",
       "      <td>0.000000</td>\n",
       "      <td>0.000000</td>\n",
       "      <td>0.000000</td>\n",
       "      <td>0.000000</td>\n",
       "      <td>0.000000</td>\n",
       "    </tr>\n",
       "    <tr>\n",
       "      <th>...</th>\n",
       "      <td>...</td>\n",
       "      <td>...</td>\n",
       "      <td>...</td>\n",
       "      <td>...</td>\n",
       "      <td>...</td>\n",
       "      <td>...</td>\n",
       "      <td>...</td>\n",
       "      <td>...</td>\n",
       "    </tr>\n",
       "    <tr>\n",
       "      <th>0xb192dc4ee9a2c6e1e8eccee3970cd5f114115d538c2e4a6e674f5e7f0d4a6715</th>\n",
       "      <td>74.0</td>\n",
       "      <td>9.420566</td>\n",
       "      <td>2.102567</td>\n",
       "      <td>7.416198</td>\n",
       "      <td>7.784197</td>\n",
       "      <td>8.888194</td>\n",
       "      <td>8.888194</td>\n",
       "      <td>13.379088</td>\n",
       "    </tr>\n",
       "    <tr>\n",
       "      <th>0xe8b244d92047e684079e04500f6ac06ef3a0d26ecf02adfa1105c9e050cd3445</th>\n",
       "      <td>68.0</td>\n",
       "      <td>9.621272</td>\n",
       "      <td>1.800980</td>\n",
       "      <td>7.071068</td>\n",
       "      <td>7.071068</td>\n",
       "      <td>9.695360</td>\n",
       "      <td>11.916375</td>\n",
       "      <td>11.916375</td>\n",
       "    </tr>\n",
       "    <tr>\n",
       "      <th>0x0e755396577f296a029c1fe1856e50604daca06a761195396d5f3eb6fba89e47</th>\n",
       "      <td>85.0</td>\n",
       "      <td>11.205352</td>\n",
       "      <td>1.823810</td>\n",
       "      <td>8.062258</td>\n",
       "      <td>11.661904</td>\n",
       "      <td>11.661904</td>\n",
       "      <td>12.806248</td>\n",
       "      <td>12.806248</td>\n",
       "    </tr>\n",
       "    <tr>\n",
       "      <th>0x936180690ec56e02a7453bbb655dafa717b6430b06cbe2c5bd024830cf6a07ae</th>\n",
       "      <td>588.0</td>\n",
       "      <td>11.387187</td>\n",
       "      <td>4.628848</td>\n",
       "      <td>9.433981</td>\n",
       "      <td>9.433981</td>\n",
       "      <td>9.433981</td>\n",
       "      <td>9.433981</td>\n",
       "      <td>22.338308</td>\n",
       "    </tr>\n",
       "    <tr>\n",
       "      <th>0x404d7d963a8bf036b4ec9ca24a7d584bf15104243e5e4e46d42e03a82d8e434a</th>\n",
       "      <td>147.0</td>\n",
       "      <td>11.896570</td>\n",
       "      <td>2.885165</td>\n",
       "      <td>9.848858</td>\n",
       "      <td>9.848858</td>\n",
       "      <td>11.401754</td>\n",
       "      <td>11.401754</td>\n",
       "      <td>18.920888</td>\n",
       "    </tr>\n",
       "  </tbody>\n",
       "</table>\n",
       "<p>957 rows × 8 columns</p>\n",
       "</div>"
      ],
      "text/plain": [
       "                                                    count       mean  \\\n",
       "proposal                                                               \n",
       "0x815fcd64997bb3c091e892662a70367c1e86a84de3b55...  802.0   0.000000   \n",
       "0x66bafc65f718115ce06b06199d2996456574d88e22052...   11.0   0.000000   \n",
       "0x68ac45487e61b79392d2eafcda98b3717ca0289a5d52e...    1.0   0.000000   \n",
       "0x6922cb2205b02e25949b3d7e3be6c6b4cfffd31bac9a1...    2.0   0.000000   \n",
       "0xc12044153a4aa450115f0179fa4eb72a357b5d80d0b04...  246.0   0.000000   \n",
       "...                                                   ...        ...   \n",
       "0xb192dc4ee9a2c6e1e8eccee3970cd5f114115d538c2e4...   74.0   9.420566   \n",
       "0xe8b244d92047e684079e04500f6ac06ef3a0d26ecf02a...   68.0   9.621272   \n",
       "0x0e755396577f296a029c1fe1856e50604daca06a76119...   85.0  11.205352   \n",
       "0x936180690ec56e02a7453bbb655dafa717b6430b06cbe...  588.0  11.387187   \n",
       "0x404d7d963a8bf036b4ec9ca24a7d584bf15104243e5e4...  147.0  11.896570   \n",
       "\n",
       "                                                         std       min  \\\n",
       "proposal                                                                 \n",
       "0x815fcd64997bb3c091e892662a70367c1e86a84de3b55...  0.000000  0.000000   \n",
       "0x66bafc65f718115ce06b06199d2996456574d88e22052...  0.000000  0.000000   \n",
       "0x68ac45487e61b79392d2eafcda98b3717ca0289a5d52e...       NaN  0.000000   \n",
       "0x6922cb2205b02e25949b3d7e3be6c6b4cfffd31bac9a1...  0.000000  0.000000   \n",
       "0xc12044153a4aa450115f0179fa4eb72a357b5d80d0b04...  0.000000  0.000000   \n",
       "...                                                      ...       ...   \n",
       "0xb192dc4ee9a2c6e1e8eccee3970cd5f114115d538c2e4...  2.102567  7.416198   \n",
       "0xe8b244d92047e684079e04500f6ac06ef3a0d26ecf02a...  1.800980  7.071068   \n",
       "0x0e755396577f296a029c1fe1856e50604daca06a76119...  1.823810  8.062258   \n",
       "0x936180690ec56e02a7453bbb655dafa717b6430b06cbe...  4.628848  9.433981   \n",
       "0x404d7d963a8bf036b4ec9ca24a7d584bf15104243e5e4...  2.885165  9.848858   \n",
       "\n",
       "                                                          25%        50%  \\\n",
       "proposal                                                                   \n",
       "0x815fcd64997bb3c091e892662a70367c1e86a84de3b55...   0.000000   0.000000   \n",
       "0x66bafc65f718115ce06b06199d2996456574d88e22052...   0.000000   0.000000   \n",
       "0x68ac45487e61b79392d2eafcda98b3717ca0289a5d52e...   0.000000   0.000000   \n",
       "0x6922cb2205b02e25949b3d7e3be6c6b4cfffd31bac9a1...   0.000000   0.000000   \n",
       "0xc12044153a4aa450115f0179fa4eb72a357b5d80d0b04...   0.000000   0.000000   \n",
       "...                                                       ...        ...   \n",
       "0xb192dc4ee9a2c6e1e8eccee3970cd5f114115d538c2e4...   7.784197   8.888194   \n",
       "0xe8b244d92047e684079e04500f6ac06ef3a0d26ecf02a...   7.071068   9.695360   \n",
       "0x0e755396577f296a029c1fe1856e50604daca06a76119...  11.661904  11.661904   \n",
       "0x936180690ec56e02a7453bbb655dafa717b6430b06cbe...   9.433981   9.433981   \n",
       "0x404d7d963a8bf036b4ec9ca24a7d584bf15104243e5e4...   9.848858  11.401754   \n",
       "\n",
       "                                                          75%        max  \n",
       "proposal                                                                  \n",
       "0x815fcd64997bb3c091e892662a70367c1e86a84de3b55...   0.000000   0.000000  \n",
       "0x66bafc65f718115ce06b06199d2996456574d88e22052...   0.000000   0.000000  \n",
       "0x68ac45487e61b79392d2eafcda98b3717ca0289a5d52e...   0.000000   0.000000  \n",
       "0x6922cb2205b02e25949b3d7e3be6c6b4cfffd31bac9a1...   0.000000   0.000000  \n",
       "0xc12044153a4aa450115f0179fa4eb72a357b5d80d0b04...   0.000000   0.000000  \n",
       "...                                                       ...        ...  \n",
       "0xb192dc4ee9a2c6e1e8eccee3970cd5f114115d538c2e4...   8.888194  13.379088  \n",
       "0xe8b244d92047e684079e04500f6ac06ef3a0d26ecf02a...  11.916375  11.916375  \n",
       "0x0e755396577f296a029c1fe1856e50604daca06a76119...  12.806248  12.806248  \n",
       "0x936180690ec56e02a7453bbb655dafa717b6430b06cbe...   9.433981  22.338308  \n",
       "0x404d7d963a8bf036b4ec9ca24a7d584bf15104243e5e4...  11.401754  18.920888  \n",
       "\n",
       "[957 rows x 8 columns]"
      ]
     },
     "execution_count": 28,
     "metadata": {},
     "output_type": "execute_result"
    }
   ],
   "source": [
    "pancake_prop_groups = pancake_votes.groupby('proposal')\n"
   ]
  },
  {
   "cell_type": "markdown",
   "metadata": {},
   "source": [
    "What are the proposals with the highest variation in voting?"
   ]
  },
  {
   "cell_type": "code",
   "execution_count": 29,
   "metadata": {},
   "outputs": [
    {
     "data": {
      "text/html": [
       "<div>\n",
       "<style scoped>\n",
       "    .dataframe tbody tr th:only-of-type {\n",
       "        vertical-align: middle;\n",
       "    }\n",
       "\n",
       "    .dataframe tbody tr th {\n",
       "        vertical-align: top;\n",
       "    }\n",
       "\n",
       "    .dataframe thead th {\n",
       "        text-align: right;\n",
       "    }\n",
       "</style>\n",
       "<table border=\"1\" class=\"dataframe\">\n",
       "  <thead>\n",
       "    <tr style=\"text-align: right;\">\n",
       "      <th></th>\n",
       "      <th>count</th>\n",
       "      <th>mean</th>\n",
       "      <th>std</th>\n",
       "      <th>min</th>\n",
       "      <th>25%</th>\n",
       "      <th>50%</th>\n",
       "      <th>75%</th>\n",
       "      <th>max</th>\n",
       "    </tr>\n",
       "    <tr>\n",
       "      <th>proposal</th>\n",
       "      <th></th>\n",
       "      <th></th>\n",
       "      <th></th>\n",
       "      <th></th>\n",
       "      <th></th>\n",
       "      <th></th>\n",
       "      <th></th>\n",
       "      <th></th>\n",
       "    </tr>\n",
       "  </thead>\n",
       "  <tbody>\n",
       "    <tr>\n",
       "      <th>0x404d7d963a8bf036b4ec9ca24a7d584bf15104243e5e4e46d42e03a82d8e434a</th>\n",
       "      <td>147.0</td>\n",
       "      <td>11.896570</td>\n",
       "      <td>2.885165</td>\n",
       "      <td>9.848858</td>\n",
       "      <td>9.848858</td>\n",
       "      <td>11.401754</td>\n",
       "      <td>11.401754</td>\n",
       "      <td>18.920888</td>\n",
       "    </tr>\n",
       "    <tr>\n",
       "      <th>0x936180690ec56e02a7453bbb655dafa717b6430b06cbe2c5bd024830cf6a07ae</th>\n",
       "      <td>588.0</td>\n",
       "      <td>11.387187</td>\n",
       "      <td>4.628848</td>\n",
       "      <td>9.433981</td>\n",
       "      <td>9.433981</td>\n",
       "      <td>9.433981</td>\n",
       "      <td>9.433981</td>\n",
       "      <td>22.338308</td>\n",
       "    </tr>\n",
       "    <tr>\n",
       "      <th>0x0e755396577f296a029c1fe1856e50604daca06a761195396d5f3eb6fba89e47</th>\n",
       "      <td>85.0</td>\n",
       "      <td>11.205352</td>\n",
       "      <td>1.823810</td>\n",
       "      <td>8.062258</td>\n",
       "      <td>11.661904</td>\n",
       "      <td>11.661904</td>\n",
       "      <td>12.806248</td>\n",
       "      <td>12.806248</td>\n",
       "    </tr>\n",
       "    <tr>\n",
       "      <th>0xe8b244d92047e684079e04500f6ac06ef3a0d26ecf02adfa1105c9e050cd3445</th>\n",
       "      <td>68.0</td>\n",
       "      <td>9.621272</td>\n",
       "      <td>1.800980</td>\n",
       "      <td>7.071068</td>\n",
       "      <td>7.071068</td>\n",
       "      <td>9.695360</td>\n",
       "      <td>11.916375</td>\n",
       "      <td>11.916375</td>\n",
       "    </tr>\n",
       "    <tr>\n",
       "      <th>0xb192dc4ee9a2c6e1e8eccee3970cd5f114115d538c2e4a6e674f5e7f0d4a6715</th>\n",
       "      <td>74.0</td>\n",
       "      <td>9.420566</td>\n",
       "      <td>2.102567</td>\n",
       "      <td>7.416198</td>\n",
       "      <td>7.784197</td>\n",
       "      <td>8.888194</td>\n",
       "      <td>8.888194</td>\n",
       "      <td>13.379088</td>\n",
       "    </tr>\n",
       "    <tr>\n",
       "      <th>...</th>\n",
       "      <td>...</td>\n",
       "      <td>...</td>\n",
       "      <td>...</td>\n",
       "      <td>...</td>\n",
       "      <td>...</td>\n",
       "      <td>...</td>\n",
       "      <td>...</td>\n",
       "      <td>...</td>\n",
       "    </tr>\n",
       "    <tr>\n",
       "      <th>0x911cdab1c28db76090ea4a7ec09f886e6e0d5c9d11e8f459304d6e6ae967ac95</th>\n",
       "      <td>1.0</td>\n",
       "      <td>0.000000</td>\n",
       "      <td>NaN</td>\n",
       "      <td>0.000000</td>\n",
       "      <td>0.000000</td>\n",
       "      <td>0.000000</td>\n",
       "      <td>0.000000</td>\n",
       "      <td>0.000000</td>\n",
       "    </tr>\n",
       "    <tr>\n",
       "      <th>0x8fad0eff8df0400d07e49f6b69fcdbe4036f10e8a3e286cb5c8186d3a9f74b25</th>\n",
       "      <td>1.0</td>\n",
       "      <td>0.000000</td>\n",
       "      <td>NaN</td>\n",
       "      <td>0.000000</td>\n",
       "      <td>0.000000</td>\n",
       "      <td>0.000000</td>\n",
       "      <td>0.000000</td>\n",
       "      <td>0.000000</td>\n",
       "    </tr>\n",
       "    <tr>\n",
       "      <th>0x8f8b93f585425563da6cd2cc97ee350e0cbd1680938f40a8cc9149b16ec872cb</th>\n",
       "      <td>1.0</td>\n",
       "      <td>0.000000</td>\n",
       "      <td>NaN</td>\n",
       "      <td>0.000000</td>\n",
       "      <td>0.000000</td>\n",
       "      <td>0.000000</td>\n",
       "      <td>0.000000</td>\n",
       "      <td>0.000000</td>\n",
       "    </tr>\n",
       "    <tr>\n",
       "      <th>0x8f01103e0ae3dbded95fab1b6fe34c8f377ad009c50957de0a1c6279649c6116</th>\n",
       "      <td>1.0</td>\n",
       "      <td>0.000000</td>\n",
       "      <td>NaN</td>\n",
       "      <td>0.000000</td>\n",
       "      <td>0.000000</td>\n",
       "      <td>0.000000</td>\n",
       "      <td>0.000000</td>\n",
       "      <td>0.000000</td>\n",
       "    </tr>\n",
       "    <tr>\n",
       "      <th>0x815fcd64997bb3c091e892662a70367c1e86a84de3b5509c26b3785676d66a85</th>\n",
       "      <td>802.0</td>\n",
       "      <td>0.000000</td>\n",
       "      <td>0.000000</td>\n",
       "      <td>0.000000</td>\n",
       "      <td>0.000000</td>\n",
       "      <td>0.000000</td>\n",
       "      <td>0.000000</td>\n",
       "      <td>0.000000</td>\n",
       "    </tr>\n",
       "  </tbody>\n",
       "</table>\n",
       "<p>957 rows × 8 columns</p>\n",
       "</div>"
      ],
      "text/plain": [
       "                                                    count       mean  \\\n",
       "proposal                                                               \n",
       "0x404d7d963a8bf036b4ec9ca24a7d584bf15104243e5e4...  147.0  11.896570   \n",
       "0x936180690ec56e02a7453bbb655dafa717b6430b06cbe...  588.0  11.387187   \n",
       "0x0e755396577f296a029c1fe1856e50604daca06a76119...   85.0  11.205352   \n",
       "0xe8b244d92047e684079e04500f6ac06ef3a0d26ecf02a...   68.0   9.621272   \n",
       "0xb192dc4ee9a2c6e1e8eccee3970cd5f114115d538c2e4...   74.0   9.420566   \n",
       "...                                                   ...        ...   \n",
       "0x911cdab1c28db76090ea4a7ec09f886e6e0d5c9d11e8f...    1.0   0.000000   \n",
       "0x8fad0eff8df0400d07e49f6b69fcdbe4036f10e8a3e28...    1.0   0.000000   \n",
       "0x8f8b93f585425563da6cd2cc97ee350e0cbd1680938f4...    1.0   0.000000   \n",
       "0x8f01103e0ae3dbded95fab1b6fe34c8f377ad009c5095...    1.0   0.000000   \n",
       "0x815fcd64997bb3c091e892662a70367c1e86a84de3b55...  802.0   0.000000   \n",
       "\n",
       "                                                         std       min  \\\n",
       "proposal                                                                 \n",
       "0x404d7d963a8bf036b4ec9ca24a7d584bf15104243e5e4...  2.885165  9.848858   \n",
       "0x936180690ec56e02a7453bbb655dafa717b6430b06cbe...  4.628848  9.433981   \n",
       "0x0e755396577f296a029c1fe1856e50604daca06a76119...  1.823810  8.062258   \n",
       "0xe8b244d92047e684079e04500f6ac06ef3a0d26ecf02a...  1.800980  7.071068   \n",
       "0xb192dc4ee9a2c6e1e8eccee3970cd5f114115d538c2e4...  2.102567  7.416198   \n",
       "...                                                      ...       ...   \n",
       "0x911cdab1c28db76090ea4a7ec09f886e6e0d5c9d11e8f...       NaN  0.000000   \n",
       "0x8fad0eff8df0400d07e49f6b69fcdbe4036f10e8a3e28...       NaN  0.000000   \n",
       "0x8f8b93f585425563da6cd2cc97ee350e0cbd1680938f4...       NaN  0.000000   \n",
       "0x8f01103e0ae3dbded95fab1b6fe34c8f377ad009c5095...       NaN  0.000000   \n",
       "0x815fcd64997bb3c091e892662a70367c1e86a84de3b55...  0.000000  0.000000   \n",
       "\n",
       "                                                          25%        50%  \\\n",
       "proposal                                                                   \n",
       "0x404d7d963a8bf036b4ec9ca24a7d584bf15104243e5e4...   9.848858  11.401754   \n",
       "0x936180690ec56e02a7453bbb655dafa717b6430b06cbe...   9.433981   9.433981   \n",
       "0x0e755396577f296a029c1fe1856e50604daca06a76119...  11.661904  11.661904   \n",
       "0xe8b244d92047e684079e04500f6ac06ef3a0d26ecf02a...   7.071068   9.695360   \n",
       "0xb192dc4ee9a2c6e1e8eccee3970cd5f114115d538c2e4...   7.784197   8.888194   \n",
       "...                                                       ...        ...   \n",
       "0x911cdab1c28db76090ea4a7ec09f886e6e0d5c9d11e8f...   0.000000   0.000000   \n",
       "0x8fad0eff8df0400d07e49f6b69fcdbe4036f10e8a3e28...   0.000000   0.000000   \n",
       "0x8f8b93f585425563da6cd2cc97ee350e0cbd1680938f4...   0.000000   0.000000   \n",
       "0x8f01103e0ae3dbded95fab1b6fe34c8f377ad009c5095...   0.000000   0.000000   \n",
       "0x815fcd64997bb3c091e892662a70367c1e86a84de3b55...   0.000000   0.000000   \n",
       "\n",
       "                                                          75%        max  \n",
       "proposal                                                                  \n",
       "0x404d7d963a8bf036b4ec9ca24a7d584bf15104243e5e4...  11.401754  18.920888  \n",
       "0x936180690ec56e02a7453bbb655dafa717b6430b06cbe...   9.433981  22.338308  \n",
       "0x0e755396577f296a029c1fe1856e50604daca06a76119...  12.806248  12.806248  \n",
       "0xe8b244d92047e684079e04500f6ac06ef3a0d26ecf02a...  11.916375  11.916375  \n",
       "0xb192dc4ee9a2c6e1e8eccee3970cd5f114115d538c2e4...   8.888194  13.379088  \n",
       "...                                                       ...        ...  \n",
       "0x911cdab1c28db76090ea4a7ec09f886e6e0d5c9d11e8f...   0.000000   0.000000  \n",
       "0x8fad0eff8df0400d07e49f6b69fcdbe4036f10e8a3e28...   0.000000   0.000000  \n",
       "0x8f8b93f585425563da6cd2cc97ee350e0cbd1680938f4...   0.000000   0.000000  \n",
       "0x8f01103e0ae3dbded95fab1b6fe34c8f377ad009c5095...   0.000000   0.000000  \n",
       "0x815fcd64997bb3c091e892662a70367c1e86a84de3b55...   0.000000   0.000000  \n",
       "\n",
       "[957 rows x 8 columns]"
      ]
     },
     "execution_count": 29,
     "metadata": {},
     "output_type": "execute_result"
    }
   ],
   "source": [
    "pancake_prop_groups['vote_distance'].describe().sort_values('mean', ascending= False)"
   ]
  },
  {
   "cell_type": "markdown",
   "metadata": {},
   "source": [
    "**Exercise: implement the Masternode Voting Network algorithm**"
   ]
  },
  {
   "cell_type": "code",
   "execution_count": 25,
   "metadata": {},
   "outputs": [
    {
     "data": {
      "text/plain": [
       "5724"
      ]
     },
     "execution_count": 25,
     "metadata": {},
     "output_type": "execute_result"
    }
   ],
   "source": [
    "voters = pancake_votes['voter'].unique()\n",
    "len(voters)"
   ]
  },
  {
   "cell_type": "code",
   "execution_count": null,
   "metadata": {},
   "outputs": [],
   "source": [
    "## Your code here.\n"
   ]
  }
 ],
 "metadata": {
  "kernelspec": {
   "display_name": "Python 3.9.1 64-bit",
   "language": "python",
   "name": "python3"
  },
  "language_info": {
   "codemirror_mode": {
    "name": "ipython",
    "version": 3
   },
   "file_extension": ".py",
   "mimetype": "text/x-python",
   "name": "python",
   "nbconvert_exporter": "python",
   "pygments_lexer": "ipython3",
   "version": "3.9.1"
  },
  "vscode": {
   "interpreter": {
    "hash": "c32e70da788b7e7a251586b987d2c569d373765eb2af3ced0674c402bf99c5a2"
   }
  }
 },
 "nbformat": 4,
 "nbformat_minor": 2
}
