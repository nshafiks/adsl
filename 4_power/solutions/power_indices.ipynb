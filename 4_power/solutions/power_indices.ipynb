{
 "cells": [
  {
   "cell_type": "markdown",
   "metadata": {},
   "source": [
    "## Theoretical Power"
   ]
  },
  {
   "cell_type": "code",
   "execution_count": 1,
   "metadata": {},
   "outputs": [],
   "source": [
    "\n",
    "import itertools\n",
    "import numpy as np\n"
   ]
  },
  {
   "cell_type": "markdown",
   "metadata": {},
   "source": [
    "Define weights and quorum"
   ]
  },
  {
   "cell_type": "code",
   "execution_count": 2,
   "metadata": {},
   "outputs": [],
   "source": [
    "## Number of votes necessary to approve initiative.\n",
    "QUORUM = 10\n",
    "\n",
    "## Weights of each player.\n",
    "weights = [ 1, 5, 7, 3 ]\n",
    "N = len(weights)\n",
    "\n",
    "## Index of players (from 0 to N-1)\n",
    "players = range(N)"
   ]
  },
  {
   "cell_type": "markdown",
   "metadata": {},
   "source": [
    "#### Shapley Index\n",
    "\n",
    "\"The power of a coalition (or a player) is measured by the fraction of the possible voting sequences in which that coalition casts the deciding vote, that is, the vote that first guarantees passage or failure.\"\n",
    "\n",
    "https://en.wikipedia.org/wiki/Shapley%E2%80%93Shubik_power_index\n",
    "\n",
    "_Note:_ The key word is \"sequences\"."
   ]
  },
  {
   "cell_type": "markdown",
   "metadata": {},
   "source": [
    "**Exercise: Compute the Shapley index for all players.**\n",
    "\n",
    "_Note:_ `itertools` is your friend."
   ]
  },
  {
   "cell_type": "code",
   "execution_count": 11,
   "metadata": {},
   "outputs": [
    {
     "data": {
      "text/plain": [
       "[(0, 1, 2, 3),\n",
       " (0, 1, 3, 2),\n",
       " (0, 2, 1, 3),\n",
       " (0, 2, 3, 1),\n",
       " (0, 3, 1, 2),\n",
       " (0, 3, 2, 1),\n",
       " (1, 0, 2, 3),\n",
       " (1, 0, 3, 2),\n",
       " (1, 2, 0, 3),\n",
       " (1, 2, 3, 0),\n",
       " (1, 3, 0, 2),\n",
       " (1, 3, 2, 0),\n",
       " (2, 0, 1, 3),\n",
       " (2, 0, 3, 1),\n",
       " (2, 1, 0, 3),\n",
       " (2, 1, 3, 0),\n",
       " (2, 3, 0, 1),\n",
       " (2, 3, 1, 0),\n",
       " (3, 0, 1, 2),\n",
       " (3, 0, 2, 1),\n",
       " (3, 1, 0, 2),\n",
       " (3, 1, 2, 0),\n",
       " (3, 2, 0, 1),\n",
       " (3, 2, 1, 0)]"
      ]
     },
     "execution_count": 11,
     "metadata": {},
     "output_type": "execute_result"
    }
   ],
   "source": [
    "## Generate all possible permuations (i.e., coalitions).\n",
    "perms = list(itertools.permutations(players))\n",
    "perms"
   ]
  },
  {
   "cell_type": "code",
   "execution_count": null,
   "metadata": {},
   "outputs": [],
   "source": [
    "## Initialize array counting the number of times a player is pivotal.\n",
    "pivotal = np.zeros(N)\n",
    "\n",
    "for i in range(len(perms)):\n",
    "    sum = 0\n",
    "    \n",
    "    for j in players:\n",
    "\n",
    "        ## Sum all weights in sequence.\n",
    "        player = perms[i][j] \n",
    "        sum += weights[player]\n",
    "\n",
    "        ## As soon a player guarantees passing the quorum, \n",
    "        ## we mark it as pivotal and exit the loop.\n",
    "        if sum >= QUORUM:\n",
    "            pivotal[player] += 1\n",
    "            break\n",
    "\n"
   ]
  },
  {
   "cell_type": "code",
   "execution_count": 4,
   "metadata": {},
   "outputs": [
    {
     "data": {
      "text/plain": [
       "array([0.        , 0.16666667, 0.66666667, 0.16666667])"
      ]
     },
     "execution_count": 4,
     "metadata": {},
     "output_type": "execute_result"
    }
   ],
   "source": [
    "## Compute Shapley power indexes per player.\n",
    "pivotal / len(perms)"
   ]
  },
  {
   "cell_type": "markdown",
   "metadata": {},
   "source": [
    "#### Banzhaf Index\n",
    "\n",
    "\"To calculate the power of a voter using the Banzhaf index, list all the winning coalitions, then count the critical voters. A critical voter is a voter who, if he changed his vote from yes to no, would cause the measure to fail.\"\n",
    "\n",
    "https://en.wikipedia.org/wiki/Banzhaf_power_index"
   ]
  },
  {
   "cell_type": "markdown",
   "metadata": {},
   "source": [
    "**Exercise: Compute the Banzhaf index for all players.**\n"
   ]
  },
  {
   "cell_type": "code",
   "execution_count": 5,
   "metadata": {},
   "outputs": [],
   "source": [
    "## Generate all combinations of different length (>=2)\n",
    "combs = []\n",
    "for L in range(2, len(players) + 1):\n",
    "    for subset in itertools.combinations(players, L):\n",
    "        combs.append(subset)"
   ]
  },
  {
   "cell_type": "code",
   "execution_count": 6,
   "metadata": {},
   "outputs": [
    {
     "data": {
      "text/plain": [
       "[(0, 1),\n",
       " (0, 2),\n",
       " (0, 3),\n",
       " (1, 2),\n",
       " (1, 3),\n",
       " (2, 3),\n",
       " (0, 1, 2),\n",
       " (0, 1, 3),\n",
       " (0, 2, 3),\n",
       " (1, 2, 3),\n",
       " (0, 1, 2, 3)]"
      ]
     },
     "execution_count": 6,
     "metadata": {},
     "output_type": "execute_result"
    }
   ],
   "source": [
    "combs"
   ]
  },
  {
   "cell_type": "code",
   "execution_count": 7,
   "metadata": {},
   "outputs": [],
   "source": [
    "## Initialize array counting the number of times a player is a swing voter.\n",
    "swings = np.zeros(N)\n",
    "\n",
    "## Counter for how many times a coalition is winning (> QUORUM)\n",
    "winning_coalitions = 0\n",
    "\n",
    "for i in range(len(combs)):\n",
    "    \n",
    "    ## First we need to find out if a coalition is winning.\n",
    "    sum = 0\n",
    "    comb = combs[i]\n",
    "    for j in range(len(comb)):\n",
    "        player = comb[j] \n",
    "        sum += weights[player]\n",
    "\n",
    "    if sum >= QUORUM:\n",
    "        winning_coalitions += 1\n",
    "\n",
    "        ## For winning coalitions, we check all players\n",
    "        ## wheather they are swing voters, i.e., if the\n",
    "        ## coalition can reach the quorum without them.\n",
    "        for j in range(len(comb)):\n",
    "            player = comb[j]\n",
    "            w = weights[player]\n",
    "            if sum - w < QUORUM:\n",
    "                swings[player] += 1\n",
    "\n"
   ]
  },
  {
   "cell_type": "code",
   "execution_count": 8,
   "metadata": {},
   "outputs": [
    {
     "data": {
      "text/plain": [
       "array([0.        , 0.33333333, 1.        , 0.33333333])"
      ]
     },
     "execution_count": 8,
     "metadata": {},
     "output_type": "execute_result"
    }
   ],
   "source": [
    "## The Banhzaf index for every player.\n",
    "swings / winning_coalitions"
   ]
  },
  {
   "cell_type": "markdown",
   "metadata": {},
   "source": [
    "## Empirical Power\n",
    "\n",
    "Potential and exercised.\n",
    "Based on \"Voting Behavior and Power in Online Democracy: A Study of LiquidFeedback in Germany's Pirate Party\" by Kling et al. 2015."
   ]
  },
  {
   "cell_type": "code",
   "execution_count": 12,
   "metadata": {},
   "outputs": [
    {
     "name": "stdout",
     "output_type": "stream",
     "text": [
      "3 1 0\n",
      "13 3\n"
     ]
    }
   ],
   "source": [
    "QUORUM = 10\n",
    "\n",
    "## Here we have both weights and votes.\n",
    "weights = [ 1, 5, 7, 3 ]\n",
    "votes = [ 1, 1, 1, -1]\n",
    "\n",
    "N = len(weights)\n",
    "players = range(N)\n",
    "\n",
    "n_infavor = votes.count(1)\n",
    "n_against = votes.count(-1)\n",
    "n_abstained = N - n_infavor - n_against\n",
    "\n",
    "print(n_infavor, n_against, n_abstained)\n",
    "\n",
    "## Summing total weights in favor (positive) \n",
    "## and against (negative).\n",
    "Wp = 0\n",
    "Wn = 0\n",
    "\n",
    "for i in range(N):\n",
    "    if votes[i] == 1: Wp += weights[i]\n",
    "    elif votes[i] == -1: Wn += weights[i]\n",
    "\n",
    "print(Wp, Wn)"
   ]
  },
  {
   "cell_type": "markdown",
   "metadata": {},
   "source": [
    "#### Potential Power\n",
    "\n",
    "Potential power tests if a weight _i_ is larger than the distance to quorum of all remaining votes:\n",
    "\n",
    "It is equal to:\n",
    "\n",
    "- 1, if test is positive;\n",
    "- 0, if test is negative"
   ]
  },
  {
   "cell_type": "markdown",
   "metadata": {},
   "source": [
    "**Exercise: Compute potential power for a given player.**\n",
    "\n",
    "_Note_: in the paper they use quorum as a fraction, but you can use it as a count."
   ]
  },
  {
   "cell_type": "code",
   "execution_count": 13,
   "metadata": {},
   "outputs": [
    {
     "name": "stdout",
     "output_type": "stream",
     "text": [
      "1 1 1\n"
     ]
    }
   ],
   "source": [
    "## Let's pick a player.\n",
    "player = 0\n",
    "\n",
    "vote_player = votes[player]\n",
    "weight_player = weights[player]\n",
    "vote_player_direction = (1 if vote_player > 0 else 0)\n",
    "\n",
    "print(vote_player, weight_player, vote_player_direction)"
   ]
  },
  {
   "cell_type": "code",
   "execution_count": 14,
   "metadata": {},
   "outputs": [
    {
     "data": {
      "text/plain": [
       "1"
      ]
     },
     "execution_count": 14,
     "metadata": {},
     "output_type": "execute_result"
    }
   ],
   "source": [
    "distance_to_quorum_without_player = abs(QUORUM - (Wp - Wn) - (weight_player * vote_player_direction))\n",
    "distance_to_quorum_without_player"
   ]
  },
  {
   "cell_type": "code",
   "execution_count": 15,
   "metadata": {},
   "outputs": [
    {
     "data": {
      "text/plain": [
       "1"
      ]
     },
     "execution_count": 15,
     "metadata": {},
     "output_type": "execute_result"
    }
   ],
   "source": [
    "potential_power = weight_player >= distance_to_quorum_without_player\n",
    "potential_power = 1 if potential_power else 0\n",
    "potential_power"
   ]
  },
  {
   "cell_type": "markdown",
   "metadata": {},
   "source": [
    "#### Exercised Power\n",
    "\n",
    "Exercised power tests if the outcome of a voting is different with and without a player _i_:\n",
    "\n",
    "It is equal to:\n",
    "\n",
    "- 1, if test is positive (outcomes differ);\n",
    "- 0, if test is negative (same outcome)"
   ]
  },
  {
   "cell_type": "markdown",
   "metadata": {},
   "source": [
    "**Exercise: Compute potential power for a given player.**\n",
    "\n",
    "_Note_: in the paper they use quorum as a fraction, but you can use it as a count."
   ]
  },
  {
   "cell_type": "code",
   "execution_count": 165,
   "metadata": {},
   "outputs": [
    {
     "data": {
      "text/plain": [
       "1"
      ]
     },
     "execution_count": 165,
     "metadata": {},
     "output_type": "execute_result"
    }
   ],
   "source": [
    "actual_voting_result = 1 if Wp - Wn >= QUORUM else 0\n",
    "actual_voting_result"
   ]
  },
  {
   "cell_type": "code",
   "execution_count": 166,
   "metadata": {},
   "outputs": [],
   "source": [
    "## Let's pick a player.\n",
    "player = 0\n",
    "\n",
    "vote_player = votes[player]\n",
    "weight_player = weights[player]\n",
    "vote_player_direction = (1 if vote_player > 0 else 0)\n"
   ]
  },
  {
   "cell_type": "code",
   "execution_count": 167,
   "metadata": {},
   "outputs": [
    {
     "data": {
      "text/plain": [
       "1"
      ]
     },
     "execution_count": 167,
     "metadata": {},
     "output_type": "execute_result"
    }
   ],
   "source": [
    "voting_without_player = Wp - (weight_player * vote_player_direction) - Wn > QUORUM\n",
    "voting_without_player = 1 if voting_without_player else 0\n",
    "voting_without_player"
   ]
  },
  {
   "cell_type": "code",
   "execution_count": 168,
   "metadata": {},
   "outputs": [
    {
     "data": {
      "text/plain": [
       "0"
      ]
     },
     "execution_count": 168,
     "metadata": {},
     "output_type": "execute_result"
    }
   ],
   "source": [
    "power_exercised = 1 if voting_without_player != actual_voting_result else 0\n",
    "power_exercised"
   ]
  }
 ],
 "metadata": {
  "kernelspec": {
   "display_name": "Python 3.9.12 ('base')",
   "language": "python",
   "name": "python3"
  },
  "language_info": {
   "codemirror_mode": {
    "name": "ipython",
    "version": 3
   },
   "file_extension": ".py",
   "mimetype": "text/x-python",
   "name": "python",
   "nbconvert_exporter": "python",
   "pygments_lexer": "ipython3",
   "version": "3.9.12"
  },
  "orig_nbformat": 4,
  "vscode": {
   "interpreter": {
    "hash": "4f523f7c76dd18e7ed336217f32f6f704c23c323644912475b9d3570cf04b060"
   }
  }
 },
 "nbformat": 4,
 "nbformat_minor": 2
}
